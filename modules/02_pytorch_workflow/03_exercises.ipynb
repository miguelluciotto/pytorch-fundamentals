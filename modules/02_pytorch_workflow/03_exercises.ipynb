{
 "cells": [
  {
   "cell_type": "markdown",
   "metadata": {},
   "source": [
    "# Exercises and Extra-Curriculum"
   ]
  },
  {
   "cell_type": "markdown",
   "metadata": {},
   "source": [
    "## Exercises:"
   ]
  },
  {
   "cell_type": "code",
   "execution_count": 1,
   "metadata": {},
   "outputs": [],
   "source": [
    "import torch\n",
    "from torch import nn\n",
    "import matplotlib.pyplot as plt\n",
    "import numpy as np"
   ]
  },
  {
   "cell_type": "code",
   "execution_count": 2,
   "metadata": {},
   "outputs": [
    {
     "data": {
      "text/plain": [
       "'cuda'"
      ]
     },
     "execution_count": 2,
     "metadata": {},
     "output_type": "execute_result"
    }
   ],
   "source": [
    "device = \"cuda\" if torch.cuda.is_available() else \"cpu\"\n",
    "device"
   ]
  },
  {
   "cell_type": "markdown",
   "metadata": {},
   "source": [
    "1. Create a straight line dataset using the linear regression formula $$y = w * X + b$$\n",
    "\n",
    "* Set `weight=0.3` and `bias=0.9` there should be at least 100 datapoints total.\n",
    "* Split the data into 80% training, 20% testing.\n",
    "* Plot the training and testing data so it becomes visual.\n"
   ]
  },
  {
   "cell_type": "code",
   "execution_count": 3,
   "metadata": {},
   "outputs": [],
   "source": [
    "weight = 0.3\n",
    "bias = 0.9\n",
    "\n",
    "X = torch.arange(start=0, end=1, step=0.01)\n",
    "X = X.unsqueeze(dim=1)\n",
    "y = weight * X + bias"
   ]
  },
  {
   "cell_type": "code",
   "execution_count": 4,
   "metadata": {},
   "outputs": [],
   "source": [
    "train_split = int(0.8 * len(X))\n",
    "\n",
    "X_train, y_train = X[:train_split], y[:train_split]\n",
    "X_test, y_test = X[train_split:], y[train_split:]"
   ]
  },
  {
   "cell_type": "code",
   "execution_count": 5,
   "metadata": {},
   "outputs": [],
   "source": [
    "X_train_gpu = X_train.to(device)\n",
    "y_train_gpu = y_train.to(device)\n",
    "\n",
    "X_test_gpu = X_test.to(device)\n",
    "y_test_gpu = y_test.to(device)"
   ]
  },
  {
   "cell_type": "code",
   "execution_count": 6,
   "metadata": {},
   "outputs": [],
   "source": [
    "def plot_preds(train_data = X_train, train_labels = y_train,\n",
    "               test_data = X_test, test_labels = y_test,\n",
    "               predictions = None):\n",
    "    \n",
    "    plt.figure(figsize = (10, 7))\n",
    "    plt.scatter(x=train_data, y=train_labels, c=\"b\", \n",
    "                label=\"Training Data\", s=4)\n",
    "    plt.scatter(x=test_data, y=test_labels, c=\"r\",\n",
    "                label=\"Test Data\", s=4)\n",
    "    if predictions != None:\n",
    "        plt.scatter(x=test_data, y=predictions, c=\"purple\",\n",
    "                    label=\"Predicitons\", s=4)\n",
    "    plt.legend(prop={\"size\":14})\n",
    "    plt.grid(True)"
   ]
  },
  {
   "cell_type": "code",
   "execution_count": 7,
   "metadata": {},
   "outputs": [
    {
     "data": {
      "image/png": "[encoded data removed]",
      "text/plain": [
       "<Figure size 1000x700 with 1 Axes>"
      ]
     },
     "metadata": {},
     "output_type": "display_data"
    }
   ],
   "source": [
    "plot_preds()"
   ]
  },
  {
   "cell_type": "markdown",
   "metadata": {},
   "source": [
    "2. Build a PyTorch model by subclassing nn.Module.\n",
    "\n",
    "* Inside should be a randomly initialized `nn.Parameter()` with `requires_grad=True`, one for weights and one for bias.\n",
    "\n",
    "* Implement the `forward()` method to compute the linear regression function you used to create the dataset in (1).\n",
    "\n",
    "* Once you've constructed the model, make an instance of it and check it's `state_dict()`.\n",
    "\n",
    "* **Note:** If you'd like to use `nn.Linear()` instead of `nn.Parameter()` you can.\n"
   ]
  },
  {
   "cell_type": "code",
   "execution_count": 8,
   "metadata": {},
   "outputs": [],
   "source": [
    "class LinearRegression(nn.Module):\n",
    "    def __init__(self):\n",
    "        super().__init__()\n",
    "        self.linear_layer = nn.Linear(in_features=1, \n",
    "                                      out_features=1, \n",
    "                                      device=device)\n",
    "    def forward(self, x):\n",
    "        return self.linear_layer(x)"
   ]
  },
  {
   "cell_type": "code",
   "execution_count": 9,
   "metadata": {},
   "outputs": [
    {
     "data": {
      "text/plain": [
       "OrderedDict([('linear_layer.weight', tensor([[-0.5017]], device='cuda:0')),\n",
       "             ('linear_layer.bias', tensor([0.7067], device='cuda:0'))])"
      ]
     },
     "execution_count": 9,
     "metadata": {},
     "output_type": "execute_result"
    }
   ],
   "source": [
    "torch.manual_seed(69)\n",
    "model2 = LinearRegression()\n",
    "model2.state_dict()"
   ]
  },
  {
   "cell_type": "code",
   "execution_count": 10,
   "metadata": {},
   "outputs": [
    {
     "data": {
      "text/plain": [
       "device(type='cuda', index=0)"
      ]
     },
     "execution_count": 10,
     "metadata": {},
     "output_type": "execute_result"
    }
   ],
   "source": [
    "next(model2.parameters()).device"
   ]
  },
  {
   "cell_type": "markdown",
   "metadata": {},
   "source": [
    "3. Create a loss function and optimizer using `nn.L1Loss()` and `torch.optim.SGD(params, lr)` respectively.\n",
    "\n",
    "* Set the learning rate of the optimizer to be 0.01 and the parameters to optimize should be the model parameters from the model you created in (2).\n",
    "* Write a training loop to perform the appropriate training steps for 300 epochs.\n",
    "* The training loop should test the model on the test dataset every 20 epochs.\n"
   ]
  },
  {
   "cell_type": "code",
   "execution_count": 11,
   "metadata": {},
   "outputs": [],
   "source": [
    "loss_fn = nn.L1Loss()\n",
    "optimizador = torch.optim.SGD(params=model2.parameters(),\n",
    "                              lr=0.01)\n",
    "epochs = 300"
   ]
  },
  {
   "cell_type": "code",
   "execution_count": 12,
   "metadata": {},
   "outputs": [],
   "source": [
    "def train_model(model:LinearRegression, optimizer:torch.optim.SGD, \n",
    "                loss_f:nn.L1Loss, train_data:torch.Tensor, \n",
    "                train_labels:torch.Tensor, epocas:int):\n",
    "    train_losses = []\n",
    "    for epoca in range(epocas+1):\n",
    "        model.train()\n",
    "        \n",
    "        train_preds = model(train_data)\n",
    "        \n",
    "        loss = loss_f(train_preds, train_labels)\n",
    "        train_losses.append(loss.item())\n",
    "\n",
    "        optimizer.zero_grad()\n",
    "        loss.backward()\n",
    "        optimizer.step()\n",
    "\n",
    "        if epoca % 20 == 0:\n",
    "            print(f\"Epoca: {epoca} | Train Loss: {loss.item()}\")\n",
    "    \n",
    "    return train_preds, train_losses"
   ]
  },
  {
   "cell_type": "code",
   "execution_count": 13,
   "metadata": {},
   "outputs": [
    {
     "name": "stdout",
     "output_type": "stream",
     "text": [
      "Epoca: 0 | Train Loss: 0.5099973082542419\n",
      "Epoca: 20 | Train Loss: 0.27895888686180115\n",
      "Epoca: 40 | Train Loss: 0.15366409718990326\n",
      "Epoca: 60 | Train Loss: 0.12033678591251373\n",
      "Epoca: 80 | Train Loss: 0.10890312492847443\n",
      "Epoca: 100 | Train Loss: 0.101457379758358\n",
      "Epoca: 120 | Train Loss: 0.09452527016401291\n",
      "Epoca: 140 | Train Loss: 0.08767367899417877\n",
      "Epoca: 160 | Train Loss: 0.08082208782434464\n",
      "Epoca: 180 | Train Loss: 0.0739709660410881\n",
      "Epoca: 200 | Train Loss: 0.06711920350790024\n",
      "Epoca: 220 | Train Loss: 0.060267794877290726\n",
      "Epoca: 240 | Train Loss: 0.053416695445775986\n",
      "Epoca: 260 | Train Loss: 0.0465647391974926\n",
      "Epoca: 280 | Train Loss: 0.03971339389681816\n",
      "Epoca: 300 | Train Loss: 0.03286220505833626\n"
     ]
    }
   ],
   "source": [
    "train_preds, train_losses = train_model(model=model2,\n",
    "                                        optimizer=optimizador,\n",
    "                                        loss_f=loss_fn,\n",
    "                                        train_data=X_train_gpu,\n",
    "                                        train_labels=y_train_gpu,\n",
    "                                        epocas=epochs)"
   ]
  },
  {
   "cell_type": "markdown",
   "metadata": {},
   "source": [
    "4. Make predictions with the trained model on the test data.\n",
    "\n",
    "* Visualize these predictions against the original training and testing data (note: you may need to make sure the predictions are not on the GPU if you want to use non-CUDA-enabled libraries such as matplotlib to plot).\n"
   ]
  },
  {
   "cell_type": "code",
   "execution_count": 14,
   "metadata": {},
   "outputs": [],
   "source": [
    "def eval_model(model:LinearRegression, loss_f:nn.L1Loss,\n",
    "               test_data:torch.Tensor, test_labels: torch.Tensor):\n",
    "    \n",
    "    model.eval()\n",
    "\n",
    "    with torch.inference_mode():\n",
    "        pred = model(test_data)\n",
    "        loss = loss_f(pred, test_labels)\n",
    "\n",
    "    print(f\"Test Loss: {loss.item()}\")\n",
    "    \n",
    "    return pred, loss.item()    "
   ]
  },
  {
   "cell_type": "code",
   "execution_count": 15,
   "metadata": {},
   "outputs": [
    {
     "name": "stdout",
     "output_type": "stream",
     "text": [
      "Test Loss: 0.07676482945680618\n"
     ]
    }
   ],
   "source": [
    "test_preds, test_loss = eval_model(model=model2,\n",
    "                                     loss_f=loss_fn,\n",
    "                                     test_data=X_test_gpu,\n",
    "                                     test_labels=y_test_gpu)"
   ]
  },
  {
   "cell_type": "code",
   "execution_count": 16,
   "metadata": {},
   "outputs": [
    {
     "data": {
      "text/plain": [
       "0.07676482945680618"
      ]
     },
     "execution_count": 16,
     "metadata": {},
     "output_type": "execute_result"
    }
   ],
   "source": [
    "test_loss"
   ]
  },
  {
   "cell_type": "code",
   "execution_count": 17,
   "metadata": {},
   "outputs": [
    {
     "data": {
      "text/plain": [
       "tensor([[1.0786],\n",
       "        [1.0800],\n",
       "        [1.0814],\n",
       "        [1.0828],\n",
       "        [1.0841],\n",
       "        [1.0855],\n",
       "        [1.0869],\n",
       "        [1.0883],\n",
       "        [1.0897],\n",
       "        [1.0910],\n",
       "        [1.0924],\n",
       "        [1.0938],\n",
       "        [1.0952],\n",
       "        [1.0966],\n",
       "        [1.0979],\n",
       "        [1.0993],\n",
       "        [1.1007],\n",
       "        [1.1021],\n",
       "        [1.1035],\n",
       "        [1.1049]], device='cuda:0')"
      ]
     },
     "execution_count": 17,
     "metadata": {},
     "output_type": "execute_result"
    }
   ],
   "source": [
    "test_preds"
   ]
  },
  {
   "cell_type": "code",
   "execution_count": 18,
   "metadata": {},
   "outputs": [],
   "source": [
    "test_preds_cpu = test_preds.to(\"cpu\")"
   ]
  },
  {
   "cell_type": "code",
   "execution_count": 19,
   "metadata": {},
   "outputs": [
    {
     "data": {
      "image/png": "[encoded data removed]",
      "text/plain": [
       "<Figure size 1000x700 with 1 Axes>"
      ]
     },
     "metadata": {},
     "output_type": "display_data"
    }
   ],
   "source": [
    "plot_preds(predictions=test_preds_cpu)"
   ]
  },
  {
   "cell_type": "markdown",
   "metadata": {},
   "source": [
    "5. Save your trained model's state_dict() to file.\n",
    "\n",
    "* Create a new instance of your model class you made in (2). and load in the `state_dict()` you just saved to it.\n",
    "* Perform predictions on your test data with the loaded model and confirm they match the original model predictions from (4).\n"
   ]
  },
  {
   "cell_type": "code",
   "execution_count": 20,
   "metadata": {},
   "outputs": [],
   "source": [
    "from pathlib import Path"
   ]
  },
  {
   "cell_type": "code",
   "execution_count": 21,
   "metadata": {},
   "outputs": [
    {
     "name": "stdout",
     "output_type": "stream",
     "text": [
      "Modelo guardado en: /home/miguel/Documents/Udemy/pytorch-fundamentals/modelos/02_model2.pth\n"
     ]
    }
   ],
   "source": [
    "# Obtener la ruta absoluta del directorio del script actual (03_exercises.ipynb)\n",
    "current_dir = Path.cwd()  # En un notebook, esto obtiene la ubicación actual\n",
    "\n",
    "# Subir dos niveles para llegar a la raíz del proyecto\n",
    "root_dir = current_dir.parent.parent  # Sube desde 02_pytorch_workflow hasta la raíz\n",
    "\n",
    "# Definir la ruta correcta del directorio \"modelos\" en la raíz\n",
    "save_dir = root_dir / \"modelos\"\n",
    "\n",
    "# Verificar que el directorio ya existe (para evitar crearlo en el lugar incorrecto)\n",
    "if not save_dir.exists():\n",
    "    raise FileNotFoundError(f\"El directorio '{save_dir}' no existe. Verifica la estructura del proyecto.\")\n",
    "\n",
    "# Ruta completa del archivo del modelo\n",
    "model_path = save_dir / \"02_model2.pth\"\n",
    "\n",
    "# Guardar el modelo\n",
    "torch.save(model2.state_dict(), model_path)\n",
    "\n",
    "print(f\"Modelo guardado en: {model_path.resolve()}\")\n"
   ]
  },
  {
   "cell_type": "markdown",
   "metadata": {},
   "source": [
    "## Extra-Curriculum:"
   ]
  },
  {
   "cell_type": "markdown",
   "metadata": {},
   "source": [
    "\n",
    "* Listen to The Unofficial PyTorch Optimization Loop Song (to help remember the steps in a PyTorch training/testing loop).\n",
    "* Read What is torch.nn, really? by Jeremy Howard for a deeper understanding of how one of the most important modules in PyTorch works.\n",
    "* Spend 10-minutes scrolling through and checking out the PyTorch documentation cheatsheet for all of the different PyTorch modules you might come across.\n",
    "* Spend 10-minutes reading the loading and saving documentation on the PyTorch website to become more familiar with the different saving and loading options in PyTorch.\n",
    "* Spend 1-2 hours reading/watching the following for an overview of the internals of gradient descent and backpropagation, the two main algorithms that have been working in the background to help our model learn.\n",
    "* Wikipedia page for gradient descent\n",
    "* Gradient Descent Algorithm — a deep dive by Robert Kwiatkowski\n",
    "* Gradient descent, how neural networks learn video by 3Blue1Brown\n",
    "* What is backpropagation really doing? video by 3Blue1Brown\n",
    "* Backpropagation Wikipedia Page\n"
   ]
  }
 ],
 "metadata": {
  "kernelspec": {
   "display_name": ".env",
   "language": "python",
   "name": "python3"
  },
  "language_info": {
   "codemirror_mode": {
    "name": "ipython",
    "version": 3
   },
   "file_extension": ".py",
   "mimetype": "text/x-python",
   "name": "python",
   "nbconvert_exporter": "python",
   "pygments_lexer": "ipython3",
   "version": "3.11.2"
  }
 },
 "nbformat": 4,
 "nbformat_minor": 2
}
