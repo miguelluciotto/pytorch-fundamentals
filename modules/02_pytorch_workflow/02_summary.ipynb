{
 "cells": [
  {
   "cell_type": "markdown",
   "metadata": {},
   "source": [
    "# Putting All Together"
   ]
  },
  {
   "cell_type": "markdown",
   "metadata": {},
   "source": [
    "A continuación se realizará un resumen del workflow de PyTorch indagado en el notebook anterior (*01_pytorch_workflow.ipynb*)"
   ]
  },
  {
   "cell_type": "code",
   "execution_count": 1,
   "metadata": {},
   "outputs": [],
   "source": [
    "import torch\n",
    "from torch import nn\n",
    "import matplotlib.pyplot as plt\n",
    "import numpy as np"
   ]
  },
  {
   "cell_type": "code",
   "execution_count": 2,
   "metadata": {},
   "outputs": [
    {
     "data": {
      "text/plain": [
       "'2.5.1+cu124'"
      ]
     },
     "execution_count": 2,
     "metadata": {},
     "output_type": "execute_result"
    }
   ],
   "source": [
    "torch.__version__"
   ]
  },
  {
   "cell_type": "markdown",
   "metadata": {},
   "source": [
    "## 0. Agnostic Device"
   ]
  },
  {
   "cell_type": "markdown",
   "metadata": {},
   "source": [
    "Definimos código agnostico a device, pidiendo que éste utilice `cuda` en caso de existir, de lo contrario utilizar cpu."
   ]
  },
  {
   "cell_type": "code",
   "execution_count": 3,
   "metadata": {},
   "outputs": [
    {
     "data": {
      "text/plain": [
       "'cuda'"
      ]
     },
     "execution_count": 3,
     "metadata": {},
     "output_type": "execute_result"
    }
   ],
   "source": [
    "device = \"cuda\" if torch.cuda.is_available() else \"cpu\"\n",
    "device"
   ]
  },
  {
   "cell_type": "markdown",
   "metadata": {},
   "source": [
    "## 1. Data"
   ]
  },
  {
   "cell_type": "markdown",
   "metadata": {},
   "source": [
    "Definimos un simple dataset para utilizar con nuestro modelo.\n",
    "\n",
    "En este caso se utilizará la ecuación lineal para definir el data set.\n",
    "\n",
    "$$y = w X + b$$"
   ]
  },
  {
   "cell_type": "code",
   "execution_count": 4,
   "metadata": {},
   "outputs": [
    {
     "data": {
      "text/plain": [
       "(tensor([[0.0000],\n",
       "         [0.0200],\n",
       "         [0.0400],\n",
       "         [0.0600],\n",
       "         [0.0800]]),\n",
       " tensor([[0.2000],\n",
       "         [0.2160],\n",
       "         [0.2320],\n",
       "         [0.2480],\n",
       "         [0.2640]]))"
      ]
     },
     "execution_count": 4,
     "metadata": {},
     "output_type": "execute_result"
    }
   ],
   "source": [
    "# Definimos peso y bias\n",
    "weight = 0.8\n",
    "bias = 0.2\n",
    "\n",
    "# Creamos el dataset\n",
    "X = torch.arange(start=0, end=1, step=0.02)\n",
    "\n",
    "# Convertimos el vector de n elementos generado \n",
    "# en una matriz de n x 1 para utilizar con los métodos.\n",
    "X = X.unsqueeze(dim=1)\n",
    "y = weight * X + bias\n",
    "\n",
    "X[:5], y[:5]"
   ]
  },
  {
   "cell_type": "markdown",
   "metadata": {},
   "source": [
    "Separamos el dataset en train y test:"
   ]
  },
  {
   "cell_type": "code",
   "execution_count": 5,
   "metadata": {},
   "outputs": [
    {
     "data": {
      "text/plain": [
       "(40, 40, 10, 10)"
      ]
     },
     "execution_count": 5,
     "metadata": {},
     "output_type": "execute_result"
    }
   ],
   "source": [
    "train_split = int(0.8 * len(X))\n",
    "X_train, y_train = X[:train_split], y[:train_split]\n",
    "X_test, y_test = X[train_split:], y[train_split:]\n",
    "\n",
    "len(X_train), len(y_train), len(X_test), len(y_test)"
   ]
  },
  {
   "cell_type": "markdown",
   "metadata": {},
   "source": [
    "Definimos una función para visualizar la data:"
   ]
  },
  {
   "cell_type": "code",
   "execution_count": 6,
   "metadata": {},
   "outputs": [],
   "source": [
    "def plot_pred(train_data = X_train, train_labels = y_train,\n",
    "              test_data = X_test, test_labels = y_test,\n",
    "              predictions = None):\n",
    "    \"\"\"\n",
    "    Grafica los datos de entrenamiento, testing\n",
    "    y los compara con las predicciones del modelo\n",
    "    \"\"\"\n",
    "    \n",
    "    plt.figure(figsize = (10, 7))\n",
    "    plt.scatter(x = train_data, y = train_labels, \n",
    "                c=\"b\", s=4, label = \"Training Data\")\n",
    "    plt.scatter(x = test_data, y = test_labels, \n",
    "                c=\"purple\", s=4, label = \"Test Data\")\n",
    "    if predictions is not None:\n",
    "        plt.scatter(x = test_data, y = predictions, \n",
    "                c=\"r\", s=4, label = \"Predictions\")\n",
    "    plt.legend(prop={\"size\":14})\n"
   ]
  },
  {
   "cell_type": "code",
   "execution_count": 7,
   "metadata": {},
   "outputs": [
    {
     "data": {
      "image/png": "[encoded data removed]",
      "text/plain": [
       "<Figure size 1000x700 with 1 Axes>"
      ]
     },
     "metadata": {},
     "output_type": "display_data"
    }
   ],
   "source": [
    "plot_pred()"
   ]
  },
  {
   "cell_type": "markdown",
   "metadata": {},
   "source": [
    "## 2. Crear Modelo"
   ]
  },
  {
   "cell_type": "markdown",
   "metadata": {},
   "source": [
    "Definimos la clase del modelo heredando de `nn.Module`.\n",
    "\n",
    "Sin embargo, en lugar de crear los parámetros manualmente, se utiliza `nn.Linear()` para definir un `layer`.\n",
    "\n",
    "Para el uso de `nn.Linear()`:\n",
    "\n",
    "* `in_features`: Es el tamaño de cada muestra de entrada\n",
    "* `out_features`: Es el tamaño de cada muestra de salida\n",
    "\n",
    "Documentación: https://pytorch.org/docs/stable/generated/torch.nn.Linear.html"
   ]
  },
  {
   "cell_type": "code",
   "execution_count": 8,
   "metadata": {},
   "outputs": [],
   "source": [
    "class RegresionLineal(nn.Module):\n",
    "    def __init__(self):\n",
    "        super().__init__()\n",
    "        # Al crear el layer se especifíca 1 input y 1 output \n",
    "        # en cada capa\n",
    "        self.linear_layer = nn.Linear(in_features=1,\n",
    "                                      out_features=1)\n",
    "        \n",
    "    def forward(self, x:torch.Tensor) -> torch.Tensor:\n",
    "        return self.linear_layer(x)"
   ]
  },
  {
   "cell_type": "markdown",
   "metadata": {},
   "source": [
    "Creamos una instancia de la clase y utilizamos una random seed para repetir resultados, sin embargo, esto último es optativo"
   ]
  },
  {
   "cell_type": "code",
   "execution_count": 9,
   "metadata": {},
   "outputs": [
    {
     "data": {
      "text/plain": [
       "OrderedDict([('linear_layer.weight', tensor([[0.7645]])),\n",
       "             ('linear_layer.bias', tensor([0.8300]))])"
      ]
     },
     "execution_count": 9,
     "metadata": {},
     "output_type": "execute_result"
    }
   ],
   "source": [
    "torch.manual_seed(42)\n",
    "model1 = RegresionLineal()\n",
    "model1.state_dict()"
   ]
  },
  {
   "cell_type": "markdown",
   "metadata": {},
   "source": [
    "Revisamos el device del modelo:"
   ]
  },
  {
   "cell_type": "code",
   "execution_count": 10,
   "metadata": {},
   "outputs": [
    {
     "data": {
      "text/plain": [
       "device(type='cpu')"
      ]
     },
     "execution_count": 10,
     "metadata": {},
     "output_type": "execute_result"
    }
   ],
   "source": [
    "next(model1.parameters()).device"
   ]
  },
  {
   "cell_type": "markdown",
   "metadata": {},
   "source": [
    "Por defecto se crea en el cpu, por lo tanto, lo movemos al gpu:"
   ]
  },
  {
   "cell_type": "code",
   "execution_count": 11,
   "metadata": {},
   "outputs": [
    {
     "data": {
      "text/plain": [
       "device(type='cuda', index=0)"
      ]
     },
     "execution_count": 11,
     "metadata": {},
     "output_type": "execute_result"
    }
   ],
   "source": [
    "model1.to(device)\n",
    "next(model1.parameters()).device"
   ]
  },
  {
   "cell_type": "markdown",
   "metadata": {},
   "source": [
    "## 3. Entrenamiento y Prueba del Modelo"
   ]
  },
  {
   "cell_type": "markdown",
   "metadata": {},
   "source": [
    "Para el entrenamiento necesitamos:\n",
    "\n",
    "* Función de pérdida\n",
    "* Optimizador\n",
    "* Bucle de entrenamiento\n",
    "* Bucle de prueba\n",
    "\n",
    "Empezamos definiendo la función de pérdida y el optimizador:"
   ]
  },
  {
   "cell_type": "code",
   "execution_count": 12,
   "metadata": {},
   "outputs": [],
   "source": [
    "loss_fn = nn.L1Loss() # MAE\n",
    "optimizer = torch.optim.SGD(params=model1.parameters(),\n",
    "                            lr=0.01)"
   ]
  },
  {
   "cell_type": "markdown",
   "metadata": {},
   "source": [
    "Nos aseguramos de que todos los datos se encuentren en el device correcto:"
   ]
  },
  {
   "cell_type": "code",
   "execution_count": 13,
   "metadata": {},
   "outputs": [],
   "source": [
    "X_train = X_train.to(device)\n",
    "X_test = X_test.to(device)\n",
    "y_train = y_train.to(device)\n",
    "y_test = y_test.to(device)"
   ]
  },
  {
   "cell_type": "markdown",
   "metadata": {},
   "source": [
    "Creamos una función para el loop de training:"
   ]
  },
  {
   "cell_type": "markdown",
   "metadata": {},
   "source": [
    "torch.manual_seed(42)\n",
    "epochs = 200\n",
    "for epoch in range(epochs):\n",
    "    model1.train()\n",
    "    # Forward Pass\n",
    "    y_pred = model1(X_train)\n",
    "    loss = loss_fn(y_pred, y_train)\n",
    "    optimizer.zero_grad()\n",
    "    loss.backward()\n",
    "    optimizer.step()"
   ]
  },
  {
   "cell_type": "code",
   "execution_count": 14,
   "metadata": {},
   "outputs": [],
   "source": [
    "def entrenar(modelo:RegresionLineal, optimizador:torch.optim.SGD, loss_f:torch.nn.L1Loss, \n",
    "             train_data:torch.Tensor, train_labels:torch.Tensor, epocas:int):\n",
    "    \n",
    "    train_losses = []\n",
    "    \n",
    "    for epoca in range(epocas):\n",
    "        modelo.train()\n",
    "\n",
    "        train_pred = modelo(train_data)\n",
    "        \n",
    "        loss = loss_f(train_pred, train_labels)\n",
    "        train_losses.append(loss.item())\n",
    "\n",
    "        optimizador.zero_grad()\n",
    "        loss.backward()\n",
    "        optimizador.step()\n",
    "\n",
    "        if epoca % 50 == 0:\n",
    "            print(f\"Epoch: {epoca} | Train Loss: {loss.item()}\")\n",
    "    \n",
    "    return train_pred, train_losses"
   ]
  },
  {
   "cell_type": "markdown",
   "metadata": {},
   "source": [
    "Creamos una función para el loop de testing:"
   ]
  },
  {
   "cell_type": "code",
   "execution_count": 15,
   "metadata": {},
   "outputs": [],
   "source": [
    "def evaluar(modelo:RegresionLineal, loss_f:torch.nn.L1Loss,\n",
    "           test_data:torch.Tensor, test_labels:torch.Tensor, epocas:int):\n",
    "    \n",
    "    test_losses = []\n",
    "    predicciones = []\n",
    "\n",
    "    for epoca in range(epocas):\n",
    "        modelo.eval()\n",
    "        with torch.inference_mode():\n",
    "            test_pred = modelo(test_data)\n",
    "            predicciones.append(test_pred)\n",
    "\n",
    "            loss = loss_f(test_pred, test_labels)\n",
    "            test_losses.append(loss.item())\n",
    "\n",
    "            if epoca % 50 == 0:\n",
    "                print(f\"Epoch: {epoca} | Test Loss: {loss.item()}\")\n",
    "    \n",
    "    return predicciones, test_losses"
   ]
  },
  {
   "cell_type": "markdown",
   "metadata": {},
   "source": [
    "Realizamos el entrenamiento:"
   ]
  },
  {
   "cell_type": "code",
   "execution_count": 16,
   "metadata": {},
   "outputs": [],
   "source": [
    "epochs = 201"
   ]
  },
  {
   "cell_type": "code",
   "execution_count": 17,
   "metadata": {},
   "outputs": [
    {
     "name": "stdout",
     "output_type": "stream",
     "text": [
      "Epoch: 0 | Train Loss: 0.6161779165267944\n",
      "Epoch: 50 | Train Loss: 0.05875825881958008\n",
      "Epoch: 100 | Train Loss: 0.03144557774066925\n",
      "Epoch: 150 | Train Loss: 0.014275657944381237\n",
      "Epoch: 200 | Train Loss: 0.008990190923213959\n"
     ]
    }
   ],
   "source": [
    "train_preds, train_losses = entrenar(modelo=model1, \n",
    "                                      optimizador=optimizer, \n",
    "                                      loss_f=loss_fn, \n",
    "                                      train_data=X_train, \n",
    "                                      train_labels=y_train, \n",
    "                                      epocas=epochs)"
   ]
  },
  {
   "cell_type": "code",
   "execution_count": 18,
   "metadata": {},
   "outputs": [
    {
     "data": {
      "text/plain": [
       "(torch.Tensor, list)"
      ]
     },
     "execution_count": 18,
     "metadata": {},
     "output_type": "execute_result"
    }
   ],
   "source": [
    "type(train_preds), type(train_losses)"
   ]
  },
  {
   "cell_type": "code",
   "execution_count": 19,
   "metadata": {},
   "outputs": [
    {
     "data": {
      "text/plain": [
       "tensor([[0.2095],\n",
       "        [0.2255],\n",
       "        [0.2415],\n",
       "        [0.2574],\n",
       "        [0.2734]], device='cuda:0', grad_fn=<SliceBackward0>)"
      ]
     },
     "execution_count": 19,
     "metadata": {},
     "output_type": "execute_result"
    }
   ],
   "source": [
    "train_preds[:5]"
   ]
  },
  {
   "cell_type": "code",
   "execution_count": 20,
   "metadata": {},
   "outputs": [
    {
     "data": {
      "text/plain": [
       "[0.008990190923213959,\n",
       " 0.0025308155454695225,\n",
       " 0.008990190923213959,\n",
       " 0.0025308155454695225,\n",
       " 0.008990190923213959]"
      ]
     },
     "execution_count": 20,
     "metadata": {},
     "output_type": "execute_result"
    }
   ],
   "source": [
    "train_losses[-5:]"
   ]
  },
  {
   "cell_type": "code",
   "execution_count": 21,
   "metadata": {},
   "outputs": [
    {
     "name": "stdout",
     "output_type": "stream",
     "text": [
      "Epoch: 0 | Test Loss: 0.005145949311554432\n",
      "Epoch: 50 | Test Loss: 0.005145949311554432\n",
      "Epoch: 100 | Test Loss: 0.005145949311554432\n",
      "Epoch: 150 | Test Loss: 0.005145949311554432\n",
      "Epoch: 200 | Test Loss: 0.005145949311554432\n"
     ]
    }
   ],
   "source": [
    "test_preds, test_losses = evaluar(modelo=model1,\n",
    "                                  loss_f=loss_fn,\n",
    "                                  test_data=X_test,\n",
    "                                  test_labels=y_test,\n",
    "                                  epocas=epochs)"
   ]
  },
  {
   "cell_type": "code",
   "execution_count": 22,
   "metadata": {},
   "outputs": [
    {
     "data": {
      "text/plain": [
       "(list, list)"
      ]
     },
     "execution_count": 22,
     "metadata": {},
     "output_type": "execute_result"
    }
   ],
   "source": [
    "type(test_preds), type(test_losses)"
   ]
  },
  {
   "cell_type": "code",
   "execution_count": 23,
   "metadata": {},
   "outputs": [
    {
     "data": {
      "text/plain": [
       "tensor([[0.8353],\n",
       "        [0.8512],\n",
       "        [0.8671],\n",
       "        [0.8830],\n",
       "        [0.8989]], device='cuda:0')"
      ]
     },
     "execution_count": 23,
     "metadata": {},
     "output_type": "execute_result"
    }
   ],
   "source": [
    "test_preds[0][:5]"
   ]
  },
  {
   "cell_type": "markdown",
   "metadata": {},
   "source": [
    "Los parámetros del modelo después del entrenamiento son muy similares a los utilizados para crear el dataset:"
   ]
  },
  {
   "cell_type": "code",
   "execution_count": 24,
   "metadata": {},
   "outputs": [
    {
     "data": {
      "text/plain": [
       "OrderedDict([('linear_layer.weight', tensor([[0.7948]], device='cuda:0')),\n",
       "             ('linear_layer.bias', tensor([0.1995], device='cuda:0'))])"
      ]
     },
     "execution_count": 24,
     "metadata": {},
     "output_type": "execute_result"
    }
   ],
   "source": [
    "model1.state_dict()"
   ]
  },
  {
   "cell_type": "code",
   "execution_count": 25,
   "metadata": {},
   "outputs": [
    {
     "data": {
      "text/plain": [
       "(0.8, 0.2)"
      ]
     },
     "execution_count": 25,
     "metadata": {},
     "output_type": "execute_result"
    }
   ],
   "source": [
    "weight, bias"
   ]
  },
  {
   "cell_type": "markdown",
   "metadata": {},
   "source": [
    "## 4. Realizar y Evaluar Predicciones:"
   ]
  },
  {
   "cell_type": "code",
   "execution_count": 26,
   "metadata": {},
   "outputs": [
    {
     "data": {
      "text/plain": [
       "tensor([[0.8353],\n",
       "        [0.8512],\n",
       "        [0.8671],\n",
       "        [0.8830],\n",
       "        [0.8989],\n",
       "        [0.9148],\n",
       "        [0.9307],\n",
       "        [0.9466],\n",
       "        [0.9625],\n",
       "        [0.9784]], device='cuda:0')"
      ]
     },
     "execution_count": 26,
     "metadata": {},
     "output_type": "execute_result"
    }
   ],
   "source": [
    "model1.eval()\n",
    "with torch.inference_mode():\n",
    "    y_preds = model1(X_test)\n",
    "y_preds"
   ]
  },
  {
   "cell_type": "code",
   "execution_count": 27,
   "metadata": {},
   "outputs": [
    {
     "data": {
      "image/png": "[encoded data removed]",
      "text/plain": [
       "<Figure size 1000x700 with 1 Axes>"
      ]
     },
     "metadata": {},
     "output_type": "display_data"
    }
   ],
   "source": [
    "plot_pred(predictions=y_preds.cpu())"
   ]
  },
  {
   "cell_type": "markdown",
   "metadata": {},
   "source": [
    "## 5. Guardar y Cargar un Modelo"
   ]
  },
  {
   "cell_type": "markdown",
   "metadata": {},
   "source": [
    "### Guardar el Modelo:"
   ]
  },
  {
   "cell_type": "code",
   "execution_count": 28,
   "metadata": {},
   "outputs": [],
   "source": [
    "import os"
   ]
  },
  {
   "cell_type": "code",
   "execution_count": 29,
   "metadata": {},
   "outputs": [
    {
     "name": "stdout",
     "output_type": "stream",
     "text": [
      "Modelo guardado en: ../../modelos/02_summary_model1.pth\n"
     ]
    }
   ],
   "source": [
    "save_dir = os.path.join(os.pardir, os.pardir, 'modelos')\n",
    "os.makedirs(save_dir, exist_ok=True)\n",
    "\n",
    "save_path = os.path.join(save_dir, \"02_summary_model1.pth\")\n",
    "\n",
    "torch.save(model1.state_dict(), save_path)\n",
    "print(f\"Modelo guardado en: {save_path}\")"
   ]
  },
  {
   "cell_type": "markdown",
   "metadata": {},
   "source": [
    "### Cargar el Modelo:"
   ]
  },
  {
   "cell_type": "code",
   "execution_count": 30,
   "metadata": {},
   "outputs": [
    {
     "name": "stdout",
     "output_type": "stream",
     "text": [
      "Modelo cargado correctamente desde: ../../modelos/02_summary_model1.pth\n"
     ]
    },
    {
     "name": "stderr",
     "output_type": "stream",
     "text": [
      "/tmp/ipykernel_10187/2223168783.py:6: FutureWarning: You are using `torch.load` with `weights_only=False` (the current default value), which uses the default pickle module implicitly. It is possible to construct malicious pickle data which will execute arbitrary code during unpickling (See https://github.com/pytorch/pytorch/blob/main/SECURITY.md#untrusted-models for more details). In a future release, the default value for `weights_only` will be flipped to `True`. This limits the functions that could be executed during unpickling. Arbitrary objects will no longer be allowed to be loaded via this mode unless they are explicitly allowlisted by the user via `torch.serialization.add_safe_globals`. We recommend you start setting `weights_only=True` for any use case where you don't have full control of the loaded file. Please open an issue on GitHub for any issues related to this experimental feature.\n",
      "  loaded_model1.load_state_dict(torch.load(load_path))\n"
     ]
    }
   ],
   "source": [
    "load_path = os.path.join(os.pardir, os.pardir, \n",
    "                         'modelos', '02_summary_model1.pth')\n",
    "\n",
    "if os.path.isfile(load_path):\n",
    "    loaded_model1 = RegresionLineal()\n",
    "    loaded_model1.load_state_dict(torch.load(load_path))\n",
    "    loaded_model1.eval()\n",
    "    print(f\"Modelo cargado correctamente desde: {load_path}\")\n",
    "else:\n",
    "    raise FileNotFoundError(f\"No se encontró en: {load_path} \")"
   ]
  },
  {
   "cell_type": "code",
   "execution_count": 31,
   "metadata": {},
   "outputs": [
    {
     "data": {
      "text/plain": [
       "RegresionLineal(\n",
       "  (linear_layer): Linear(in_features=1, out_features=1, bias=True)\n",
       ")"
      ]
     },
     "execution_count": 31,
     "metadata": {},
     "output_type": "execute_result"
    }
   ],
   "source": [
    "loaded_model1.to(device)"
   ]
  },
  {
   "cell_type": "markdown",
   "metadata": {},
   "source": [
    "### Evaluación del Modelo y Comparación con el Original"
   ]
  },
  {
   "cell_type": "code",
   "execution_count": 32,
   "metadata": {},
   "outputs": [
    {
     "data": {
      "text/plain": [
       "tensor([[0.8353],\n",
       "        [0.8512],\n",
       "        [0.8671],\n",
       "        [0.8830],\n",
       "        [0.8989],\n",
       "        [0.9148],\n",
       "        [0.9307],\n",
       "        [0.9466],\n",
       "        [0.9625],\n",
       "        [0.9784]], device='cuda:0')"
      ]
     },
     "execution_count": 32,
     "metadata": {},
     "output_type": "execute_result"
    }
   ],
   "source": [
    "loaded_model1.eval()\n",
    "with torch.inference_mode():\n",
    "    loaded_model1_preds = loaded_model1(X_test)\n",
    "loaded_model1_preds"
   ]
  },
  {
   "cell_type": "code",
   "execution_count": 33,
   "metadata": {},
   "outputs": [
    {
     "data": {
      "text/plain": [
       "tensor([[0.8353],\n",
       "        [0.8512],\n",
       "        [0.8671],\n",
       "        [0.8830],\n",
       "        [0.8989],\n",
       "        [0.9148],\n",
       "        [0.9307],\n",
       "        [0.9466],\n",
       "        [0.9625],\n",
       "        [0.9784]], device='cuda:0')"
      ]
     },
     "execution_count": 33,
     "metadata": {},
     "output_type": "execute_result"
    }
   ],
   "source": [
    "y_preds"
   ]
  },
  {
   "cell_type": "code",
   "execution_count": 34,
   "metadata": {},
   "outputs": [
    {
     "data": {
      "text/plain": [
       "tensor([[True],\n",
       "        [True],\n",
       "        [True],\n",
       "        [True],\n",
       "        [True],\n",
       "        [True],\n",
       "        [True],\n",
       "        [True],\n",
       "        [True],\n",
       "        [True]], device='cuda:0')"
      ]
     },
     "execution_count": 34,
     "metadata": {},
     "output_type": "execute_result"
    }
   ],
   "source": [
    "y_preds == loaded_model1_preds"
   ]
  }
 ],
 "metadata": {
  "kernelspec": {
   "display_name": ".env",
   "language": "python",
   "name": "python3"
  },
  "language_info": {
   "codemirror_mode": {
    "name": "ipython",
    "version": 3
   },
   "file_extension": ".py",
   "mimetype": "text/x-python",
   "name": "python",
   "nbconvert_exporter": "python",
   "pygments_lexer": "ipython3",
   "version": "3.11.2"
  }
 },
 "nbformat": 4,
 "nbformat_minor": 2
}
