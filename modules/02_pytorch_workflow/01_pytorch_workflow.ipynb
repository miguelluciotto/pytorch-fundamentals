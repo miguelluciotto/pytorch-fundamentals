{
 "cells": [
  {
   "cell_type": "markdown",
   "metadata": {},
   "source": [
    "# PyTorch Workflow"
   ]
  },
  {
   "cell_type": "markdown",
   "metadata": {},
   "source": [
    "Para empezar, hay que recordar nuestras referencias del curso:\n",
    "\n",
    "* Repositorio de GitHub: https://github.com/mrdbourke/pytorch-deep-learning/\n",
    "* Notas del curso: https://www.learnpytorch.io/01_pytorch_workflow/\n",
    "* Tutorial de Básicos de PyTorch: https://pytorch.org/tutorials/beginner/basics/intro.html"
   ]
  },
  {
   "cell_type": "markdown",
   "metadata": {},
   "source": [
    "Los temas que cubriremos en este módulo serán:\n",
    "\n",
    "1. Data (Preparar y cargarla)\n",
    "2. Crear un modelo\n",
    "3. Entrenar un modelo (Fit data to model)\n",
    "4. Predicciones y evaluación el modelo (Inference)\n",
    "5. Guardar y cargar un modelo\n",
    "6. Creación de un proyecto"
   ]
  },
  {
   "cell_type": "markdown",
   "metadata": {},
   "source": [
    "Para ello haremos uso de `torch.nn` que contiene todo lo necesario para la creación de gráficas (grafos); esencialmente, las redes neuronales son gráficas\n",
    "\n",
    "Documentación: https://pytorch.org/docs/stable/nn.html"
   ]
  },
  {
   "cell_type": "code",
   "execution_count": 1,
   "metadata": {},
   "outputs": [],
   "source": [
    "import torch\n",
    "import matplotlib.pyplot as plt\n",
    "import torch.nn as nn\n",
    "from torch.nn import functional as F\n",
    "import numpy as np"
   ]
  },
  {
   "cell_type": "markdown",
   "metadata": {},
   "source": [
    "## 1. Data (Preparing and Loading)"
   ]
  },
  {
   "cell_type": "markdown",
   "metadata": {},
   "source": [
    "En machine learning (ML) y deep learning (DL), los datos (data) pueden ser de cualquier tipo:\n",
    "\n",
    "* Excel (Spreedsheet)\n",
    "* Imágenes\n",
    "* Videos\n",
    "* Audios\n",
    "* ADN\n",
    "* Texto\n",
    "\n",
    "Por lo tanto, actualmente ML/DL, a grosso modo, se puede dividir  en 2 partes:\n",
    "\n",
    "1. Transformar data en su representación numérica\n",
    "2. Contruir modelos para aprender los patrones de esa representación numérica"
   ]
  },
  {
   "cell_type": "markdown",
   "metadata": {},
   "source": [
    "### Regresión Lineal"
   ]
  },
  {
   "cell_type": "markdown",
   "metadata": {},
   "source": [
    "Dentro de ML/DL se utilizan otros términos para referirse al modelo y sus variables que en álgebra lineal:\n",
    "\n",
    "`y = mx + b` -> `y = wX + b`"
   ]
  },
  {
   "cell_type": "markdown",
   "metadata": {},
   "source": [
    "| **Variable** | **Descripción** | **Simbología** | **Comparación con Álgebra Lineal** |\n",
    "|:------------|:----------------|:---------------|:----------------------------------|\n",
    "| Variable objetivo | Variable que se busca predecir | y | Variable dependiente |\n",
    "| Variables predictoras | Variables que se utilizan para predecir | X | Variables independientes |\n",
    "| Gradiente | Parámetros que se ajustan durante el entrenamiento | w | Coeficientes de la ecuación lineal |\n",
    "| Intersección | Valor que se suma a la combinación lineal | b | Término constante |\n",
    "| Ecuación | Modelo de regresión lineal | y = wX + b | Ecuación lineal |\n",
    "\n",
    "#### Notas:\n",
    "\n",
    "* En álgebra lineal, se busca la solución exacta, mientras que en regresión lineal en ML/DL, se busca la solución óptima que minimize el error.\n",
    "\n",
    "* En álgebra lineal, las ecuaciones lineales se resuelven de manera exacta, mientras que en ML/DL, se utilizan algoritmos de optimización para ajustar los coeficientes.\n",
    "\n",
    "* En álgebra lineal, no se considera el ruido o la incertidumbre en los datos, mientras que en ML/DL, se busca robustecer el modelo contra el ruido y la variabilidad en los datos."
   ]
  },
  {
   "cell_type": "markdown",
   "metadata": {},
   "source": [
    "### Creación de Data-Set con Datos Conocidos"
   ]
  },
  {
   "cell_type": "markdown",
   "metadata": {},
   "source": [
    "A continuación crearemos un data set (con datos conocidos) usando regresión lineal"
   ]
  },
  {
   "cell_type": "markdown",
   "metadata": {},
   "source": [
    "* Declarar los parámetros:"
   ]
  },
  {
   "cell_type": "markdown",
   "metadata": {},
   "source": [
    "Cuando se trata de ML/DL lo que se suele buscar son los parámetros para un modelo, sin embargo, para este ejemplo nosotros los declararemos:"
   ]
  },
  {
   "cell_type": "code",
   "execution_count": 2,
   "metadata": {},
   "outputs": [],
   "source": [
    "# Elegir valores arbitrario:\n",
    "weight = 0.7 # Pendiente m\n",
    "bias = 0.3 # Ordenada al origen b"
   ]
  },
  {
   "cell_type": "markdown",
   "metadata": {},
   "source": [
    "* Crear el conjunto de datos X:"
   ]
  },
  {
   "cell_type": "markdown",
   "metadata": {},
   "source": [
    "Tomando un intervalo, creamos los datos de la variable dependiente X:"
   ]
  },
  {
   "cell_type": "code",
   "execution_count": 3,
   "metadata": {},
   "outputs": [
    {
     "data": {
      "text/plain": [
       "(tensor([0.0000, 0.0200, 0.0400, 0.0600, 0.0800, 0.1000, 0.1200, 0.1400, 0.1600,\n",
       "         0.1800, 0.2000, 0.2200, 0.2400, 0.2600, 0.2800, 0.3000, 0.3200, 0.3400,\n",
       "         0.3600, 0.3800, 0.4000, 0.4200, 0.4400, 0.4600, 0.4800, 0.5000, 0.5200,\n",
       "         0.5400, 0.5600, 0.5800, 0.6000, 0.6200, 0.6400, 0.6600, 0.6800, 0.7000,\n",
       "         0.7200, 0.7400, 0.7600, 0.7800, 0.8000, 0.8200, 0.8400, 0.8600, 0.8800,\n",
       "         0.9000, 0.9200, 0.9400, 0.9600, 0.9800]),\n",
       " torch.Size([50]))"
      ]
     },
     "execution_count": 3,
     "metadata": {},
     "output_type": "execute_result"
    }
   ],
   "source": [
    "# Crear un conjunto de valores para la variable dependiente x:\n",
    "X = torch.arange(start=0, end=1, step=0.02)\n",
    "X, X.shape"
   ]
  },
  {
   "cell_type": "markdown",
   "metadata": {},
   "source": [
    "Sin embargo, para utilizarlos debemos de redimensionarlos:"
   ]
  },
  {
   "cell_type": "code",
   "execution_count": 4,
   "metadata": {},
   "outputs": [
    {
     "data": {
      "text/plain": [
       "(tensor([[0.0000],\n",
       "         [0.0200],\n",
       "         [0.0400],\n",
       "         [0.0600],\n",
       "         [0.0800]]),\n",
       " torch.Size([50, 1]))"
      ]
     },
     "execution_count": 4,
     "metadata": {},
     "output_type": "execute_result"
    }
   ],
   "source": [
    "X = X.unsqueeze(dim=1)\n",
    "X[:5], X.shape"
   ]
  },
  {
   "cell_type": "markdown",
   "metadata": {},
   "source": [
    "* Creación del modelo `y = wX + b`"
   ]
  },
  {
   "cell_type": "code",
   "execution_count": 5,
   "metadata": {},
   "outputs": [
    {
     "data": {
      "text/plain": [
       "(tensor([[0.3000],\n",
       "         [0.3140],\n",
       "         [0.3280],\n",
       "         [0.3420],\n",
       "         [0.3560]]),\n",
       " torch.Size([50, 1]))"
      ]
     },
     "execution_count": 5,
     "metadata": {},
     "output_type": "execute_result"
    }
   ],
   "source": [
    "y = weight * X + bias\n",
    "y[:5], y.shape"
   ]
  },
  {
   "cell_type": "code",
   "execution_count": 6,
   "metadata": {},
   "outputs": [
    {
     "data": {
      "text/plain": [
       "(50, 50)"
      ]
     },
     "execution_count": 6,
     "metadata": {},
     "output_type": "execute_result"
    }
   ],
   "source": [
    "len(X), len(y)"
   ]
  },
  {
   "cell_type": "markdown",
   "metadata": {},
   "source": [
    "### Separar Data en Training y Testing"
   ]
  },
  {
   "cell_type": "markdown",
   "metadata": {},
   "source": [
    "Uno de los conceptos más importantes de ML/DL es la separación de data en datasets los cuales tienen distintos propósitos para nuestra red neuronal. En general se pueden clasificar de la siguiente forma:\n",
    "\n",
    "* Training Set: 60% - 80% de los datos\n",
    "\n",
    "Utilizado para que nuestro modelo aprenda los patrones de la data\n",
    "\n",
    "* Validation Set: 10% - 20% de los datos\n",
    "\n",
    "Usado para ajustar los parámetros del modelo\n",
    "\n",
    "* Testing Set: 10% - 20% de los datos\n",
    "\n",
    "Para probar la precisión del modelo\n",
    "\n",
    "A través de la separación de data en estos datasets y su uso, se trata de llegar a una **generalización**:\n",
    "\n",
    "La abilidad de un modelo de tener buena presición con data que no ha visto antes"
   ]
  },
  {
   "cell_type": "markdown",
   "metadata": {},
   "source": [
    "| División         | Propósito                                                                 | Porcentaje del total de datos | ¿Con qué frecuencia se usa?          |\n",
    "|------------------|---------------------------------------------------------------------------|--------------------------------|---------------------------------------|\n",
    "| Conjunto de entrenamiento | El modelo aprende de estos datos (como los materiales del curso que estudias durante el semestre). | ~60-80%                       | Siempre                               |\n",
    "| Conjunto de validación    | El modelo se ajusta con estos datos (como el examen de práctica que tomas antes del examen final). | ~10-20%                       | A menudo, pero no siempre             |\n",
    "| Conjunto de prueba        | El modelo se evalúa con estos datos para verificar lo que ha aprendido (como el examen final que tomas al final del semestre). | ~10-20%                       | Siempre                               |\n"
   ]
  },
  {
   "cell_type": "markdown",
   "metadata": {},
   "source": [
    "Para este ejemplo solo se crearan los datasets de training y testing con 80% y 20% del data respectivamente"
   ]
  },
  {
   "cell_type": "markdown",
   "metadata": {},
   "source": [
    "* Creación del Intervalo"
   ]
  },
  {
   "cell_type": "code",
   "execution_count": 7,
   "metadata": {},
   "outputs": [
    {
     "data": {
      "text/plain": [
       "40"
      ]
     },
     "execution_count": 7,
     "metadata": {},
     "output_type": "execute_result"
    }
   ],
   "source": [
    "train_split = int(0.8 * len(X))\n",
    "train_split"
   ]
  },
  {
   "cell_type": "markdown",
   "metadata": {},
   "source": [
    "* Creación del Training Dataset"
   ]
  },
  {
   "cell_type": "code",
   "execution_count": 8,
   "metadata": {},
   "outputs": [
    {
     "data": {
      "text/plain": [
       "(torch.Size([40, 1]), torch.Size([40, 1]))"
      ]
     },
     "execution_count": 8,
     "metadata": {},
     "output_type": "execute_result"
    }
   ],
   "source": [
    "X_train, y_train = X[:train_split], y[:train_split]\n",
    "X_train.shape, y_train.shape"
   ]
  },
  {
   "cell_type": "markdown",
   "metadata": {},
   "source": [
    "* Creación del Testing Dataset:"
   ]
  },
  {
   "cell_type": "code",
   "execution_count": 9,
   "metadata": {},
   "outputs": [
    {
     "data": {
      "text/plain": [
       "(torch.Size([10, 1]), torch.Size([10, 1]))"
      ]
     },
     "execution_count": 9,
     "metadata": {},
     "output_type": "execute_result"
    }
   ],
   "source": [
    "X_test, y_test = X[train_split:], y[train_split:]\n",
    "X_test.shape, y_test.shape"
   ]
  },
  {
   "cell_type": "markdown",
   "metadata": {},
   "source": [
    "### Visualizar Data"
   ]
  },
  {
   "cell_type": "markdown",
   "metadata": {},
   "source": [
    "Es fundamental la visualización de nuestros datos, para tener un mayor entendimiento de ellos"
   ]
  },
  {
   "cell_type": "markdown",
   "metadata": {},
   "source": [
    "Revisar la documentación de `matplotlib.pyplot`: https://matplotlib.org/stable/tutorials/pyplot.html"
   ]
  },
  {
   "cell_type": "code",
   "execution_count": 10,
   "metadata": {},
   "outputs": [],
   "source": [
    "def plot_predictions(train_data = X_train,\n",
    "                     train_labels = y_train,\n",
    "                     test_data = X_test,\n",
    "                     test_labels = y_test,\n",
    "                     predictions = None):\n",
    "    \"\"\"\n",
    "    Grafica los datos de training, testing y compara predicciones\n",
    "    \"\"\"\n",
    "\n",
    "    plt.figure(figsize=(10, 7))\n",
    "\n",
    "    # Graficar datos de training:\n",
    "    plt.scatter(train_data, train_labels, c=\"b\", s=4, \n",
    "                label=\"Training Data\")\n",
    "    \n",
    "    # Graficar datos de testing:\n",
    "    plt.scatter(test_data, test_labels, c=\"purple\", s=4,\n",
    "                label=\"Testing Data\")\n",
    "\n",
    "    # Graficar comparación de predicciones:\n",
    "    if predictions is not None:\n",
    "        plt.scatter(test_data, predictions, c=\"r\", s=4, \n",
    "                    label=\"Predicciones\")\n",
    "    plt.legend(prop={\"size\":14})\n",
    "    plt.grid()"
   ]
  },
  {
   "cell_type": "code",
   "execution_count": 11,
   "metadata": {},
   "outputs": [
    {
     "data": {
      "image/png": "[encoded data removed]",
      "text/plain": [
       "<Figure size 1000x700 with 1 Axes>"
      ]
     },
     "metadata": {},
     "output_type": "display_data"
    }
   ],
   "source": [
    "plot_predictions()"
   ]
  },
  {
   "cell_type": "markdown",
   "metadata": {},
   "source": [
    "En el modelo anterior, no se grafica la comparación debido a que no tenemos predicciones aún; el modelo no es de ML/DL, nosotros fuimos quienes declaramos los parámetros de la regresión lineal\n",
    "\n",
    "Pero a continuación crearemos nuestro 1er modelo de regresión lineal"
   ]
  },
  {
   "cell_type": "markdown",
   "metadata": {},
   "source": [
    "## 2. Crear un Modelo"
   ]
  },
  {
   "cell_type": "markdown",
   "metadata": {},
   "source": [
    "Para crear el módelo hacemos una clase heredando de `torch.nn.Module` o `nn.Module`\n",
    "\n",
    "Casi todo lo relacionado con redes neuronales en PyTorch debe heredar de `torch.nn.Module` debido a que son los bloques fundamentales para una red neuronal"
   ]
  },
  {
   "cell_type": "markdown",
   "metadata": {},
   "source": [
    "Documentación de `torch.nn.Module`: https://pytorch.org/docs/stable/generated/torch.nn.Module.html"
   ]
  },
  {
   "cell_type": "markdown",
   "metadata": {},
   "source": [
    "Documentación de `torch.nn.Parameter`: https://pytorch.org/docs/stable/generated/torch.nn.parameter.Parameter.html"
   ]
  },
  {
   "cell_type": "markdown",
   "metadata": {},
   "source": [
    "Documentación de `torch.randn`: https://pytorch.org/docs/main/generated/torch.randn.html"
   ]
  },
  {
   "cell_type": "code",
   "execution_count": 12,
   "metadata": {},
   "outputs": [],
   "source": [
    "class LinearRegressionModel(nn.Module):\n",
    "    def __init__(self):\n",
    "        # Ejecuta el constructor de la clase padre nn.Module\n",
    "        super().__init__()\n",
    "        # Inicializar los parámetros del modelo:\n",
    "        # Creamos como parámetro el peso w (pendiente m)\n",
    "        self.weights = nn.Parameter(torch.randn(1,\n",
    "                                                requires_grad=True, \n",
    "                                                dtype=torch.float))\n",
    "        # Creamos como parámetro el bias (ordenada al origen b)\n",
    "        self.bias = nn.Parameter(torch.randn(1, \n",
    "                                             requires_grad=True, \n",
    "                                             dtype=torch.float))\n",
    "        \n",
    "    # El método forward define la computación en el modelo\n",
    "    # x es el tensor input\n",
    "    # En concreto se llama forward por Forward Propagation\n",
    "    def forward(self, x:torch.tensor) -> torch.tensor:\n",
    "        # Ecuación de regresión lineal simple\n",
    "        return self.weights * x + self.bias"
   ]
  },
  {
   "cell_type": "markdown",
   "metadata": {},
   "source": [
    "Este modelo hace lo siguiente:\n",
    "\n",
    "*  Inicia con valores aleatorios en los parámetros (weights, bias)\n",
    "\n",
    "* Revisa la data y ajusta los valores de sus parámetros para representar mejor la data o los valores ideales\n",
    "\n",
    "Es capaz de hacerlo a través de 2 algoritmos de optimización:\n",
    "\n",
    "1. Gradient Descent:\n",
    "\n",
    "https://www.ibm.com/think/topics/gradient-descent\n",
    "\n",
    "Cabe mencionar que este algoritmo es la razón por la cual usamos `requires_grad = True`\n",
    "\n",
    "2. Backpropagation: \n",
    "\n",
    "https://www.ibm.com/think/topics/backpropagation\n",
    "\n",
    "Revisar la serie de redes neuronales de 3Blue1Brown: \n",
    "\n",
    "https://youtube.com/playlist?list=PLZHQObOWTQDNU6R1_67000Dx_ZCJB-3pi&si=-F5uBL77aVLAEuXT"
   ]
  },
  {
   "cell_type": "markdown",
   "metadata": {},
   "source": [
    "Cabe mencionar que cuando se crea una subclase de `nn.Module` como nuestro ejemplo `LinearRegressionModel`, necesita sobreescribir `forward` para ser utilizado como el algoritmo que define la computación a realizar por el modelo"
   ]
  },
  {
   "cell_type": "markdown",
   "metadata": {},
   "source": [
    "### Fundamentos de Construcción de Modelos de PyTorch"
   ]
  },
  {
   "cell_type": "markdown",
   "metadata": {},
   "source": [
    "* `torch.nn`:\n",
    "\n",
    "Contiene todas las piezas para crear gráficas computacionales (grafos); una red neuronal puede ser considerada un tipo de grafo\n",
    "\n",
    "* `torch.nn.Parameter`:\n",
    "\n",
    "Define los parámetros a aprender por el modelo. Sin embargo, un layer de PyTorch suele cubrir esto por nosotros\n",
    "\n",
    "* `torch.nn.Module`:\n",
    "\n",
    "Es la clase base para todos los módulos de redes neuronales, por lo tanto, la mayoría de los modelos deben ser creados como subclases de `torch.nn.Module` heredando de ello.\n",
    "\n",
    "En caso de crear una subclase a partir de ello, es necesario sobreescribir el método `forward` para definir la computación a realizar por el modelo\n",
    "\n",
    "* `torch.optim`:\n",
    "\n",
    "Donde se encuentran los optimizadores de PyTorch. Ayudan optimizando algoritmos como Descenso de Gradiente (`Gradient Descent`)\n",
    "\n",
    "* `def forward()`:\n",
    "\n",
    "Todas las subclases de `torch.nn.Module` necesitan sobreescribir este método. Éste define la computación a realizar por el modelo creado\n",
    "\n",
    "* `torch.utils.data.Dataset`:\n",
    "\n",
    "Crea un mapa para representar pares de keys (labels) y samples (features). Como imágenes y sus labels asociados\n",
    "\n",
    "* `torch.utils.data.DataLoader`:\n",
    "\n",
    "Crea un iterador de Python sobre un torch Dataset; permite iterar sobre nuestra data"
   ]
  },
  {
   "cell_type": "markdown",
   "metadata": {},
   "source": [
    "Siempre podemos consultar la documentación para aclarar dudas. A continuación se presenta la cheat sheet de PyTorch:\n",
    "\n",
    "https://pytorch.org/tutorials/beginner/ptcheat.html"
   ]
  },
  {
   "cell_type": "markdown",
   "metadata": {},
   "source": [
    "### Revisar el Contenido de Nuestro Modelo de PyTorch"
   ]
  },
  {
   "cell_type": "markdown",
   "metadata": {},
   "source": [
    "Ahora que se ha creado el modelo, podemos revisar los parámetros de nuestro modelo usando `.parameters()`"
   ]
  },
  {
   "cell_type": "markdown",
   "metadata": {},
   "source": [
    "Debido a que los parámetros se inicializan con valores aleatorios, podemos definir random seed para tener reproducibilidad y los valores no cambien cada que se ejecuta"
   ]
  },
  {
   "cell_type": "code",
   "execution_count": 13,
   "metadata": {},
   "outputs": [
    {
     "data": {
      "text/plain": [
       "LinearRegressionModel()"
      ]
     },
     "execution_count": 13,
     "metadata": {},
     "output_type": "execute_result"
    }
   ],
   "source": [
    "# Crear una Random Seed\n",
    "torch.manual_seed(42)\n",
    "\n",
    "# Crear una instancia del modelo LinearRegressionModel\n",
    "# Subclase de torch.nn.Module\n",
    "model0 = LinearRegressionModel()\n",
    "model0"
   ]
  },
  {
   "cell_type": "markdown",
   "metadata": {},
   "source": [
    "Revisamos los parámetros del modelo con `.parameters()`"
   ]
  },
  {
   "cell_type": "code",
   "execution_count": 14,
   "metadata": {},
   "outputs": [
    {
     "data": {
      "text/plain": [
       "<generator object Module.parameters at 0x7f6317465b60>"
      ]
     },
     "execution_count": 14,
     "metadata": {},
     "output_type": "execute_result"
    }
   ],
   "source": [
    "model0.parameters()"
   ]
  },
  {
   "cell_type": "markdown",
   "metadata": {},
   "source": [
    "Debido a que entrega un generador con dirección de memoria debemos crear una lista:"
   ]
  },
  {
   "cell_type": "code",
   "execution_count": 15,
   "metadata": {},
   "outputs": [
    {
     "data": {
      "text/plain": [
       "[Parameter containing:\n",
       " tensor([0.3367], requires_grad=True),\n",
       " Parameter containing:\n",
       " tensor([0.1288], requires_grad=True)]"
      ]
     },
     "execution_count": 15,
     "metadata": {},
     "output_type": "execute_result"
    }
   ],
   "source": [
    "list(model0.parameters())"
   ]
  },
  {
   "cell_type": "markdown",
   "metadata": {},
   "source": [
    "Podemos listar los parámetros nombrados para entender mejor el modelo usando `.state_dict()`"
   ]
  },
  {
   "cell_type": "code",
   "execution_count": 16,
   "metadata": {},
   "outputs": [
    {
     "data": {
      "text/plain": [
       "OrderedDict([('weights', tensor([0.3367])), ('bias', tensor([0.1288]))])"
      ]
     },
     "execution_count": 16,
     "metadata": {},
     "output_type": "execute_result"
    }
   ],
   "source": [
    "model0.state_dict()"
   ]
  },
  {
   "cell_type": "markdown",
   "metadata": {},
   "source": [
    "Cabe mencionar que `torch.randn(n)` crea un tensor unidimensional que contiene n valores aleatorios"
   ]
  },
  {
   "cell_type": "code",
   "execution_count": 17,
   "metadata": {},
   "outputs": [
    {
     "data": {
      "text/plain": [
       "tensor([0.2345])"
      ]
     },
     "execution_count": 17,
     "metadata": {},
     "output_type": "execute_result"
    }
   ],
   "source": [
    "torch.randn(1)"
   ]
  },
  {
   "cell_type": "code",
   "execution_count": 18,
   "metadata": {},
   "outputs": [
    {
     "data": {
      "text/plain": [
       "(tensor([0.9408, 0.1332, 0.9346, 0.5936, 0.8694, 0.5677, 0.7411, 0.4294, 0.8854,\n",
       "         0.5739]),\n",
       " torch.Size([10]))"
      ]
     },
     "execution_count": 18,
     "metadata": {},
     "output_type": "execute_result"
    }
   ],
   "source": [
    "torch.rand(10), torch.rand(10).shape"
   ]
  },
  {
   "cell_type": "markdown",
   "metadata": {},
   "source": [
    "Documentación de `torch.randn(n)`: https://pytorch.org/docs/main/generated/torch.randn.html"
   ]
  },
  {
   "cell_type": "markdown",
   "metadata": {},
   "source": [
    "Regresando a nuestro modelo,"
   ]
  },
  {
   "cell_type": "markdown",
   "metadata": {},
   "source": [
    "Ahora debemos buscar la forma de aproximar los valores de los parámetros del modelo (inicializados con valores aleatorios) a los definidos manualmente en el primer ejemplo:"
   ]
  },
  {
   "cell_type": "code",
   "execution_count": 19,
   "metadata": {},
   "outputs": [
    {
     "name": "stdout",
     "output_type": "stream",
     "text": [
      "tensor([0.3367]) -> 0.7\n",
      "tensor([0.1288]) -> 0.3\n"
     ]
    }
   ],
   "source": [
    "print(f\"{model0.state_dict()['weights']} -> {weight}\")\n",
    "print(f\"{model0.state_dict()['bias']} -> {bias}\")"
   ]
  },
  {
   "cell_type": "markdown",
   "metadata": {},
   "source": [
    "Mientras estos valores se aproximen más, nuestro modelo tendrá una mejor precisión y por ende, dará mejores predicciones"
   ]
  },
  {
   "cell_type": "markdown",
   "metadata": {},
   "source": [
    "En concreto, estos son las bases del Deep Learning DL:\n",
    "\n",
    "* Crear un modelo\n",
    "* Inicializar sus parámetros con valores aleatorios\n",
    "* Modificar esos valores para representar mejor nuestra data"
   ]
  },
  {
   "cell_type": "markdown",
   "metadata": {},
   "source": [
    "### Predicciones Antes del Entrenamiento"
   ]
  },
  {
   "cell_type": "markdown",
   "metadata": {},
   "source": [
    "Para revisar la presición de nuestro modelo, podemos utilizar el método `torch.inference_mode()` utilizando la data de prueba `X_test` y comparando los resultados con los resultados deseados `y_test`\n",
    "\n",
    "Cuando se pasa data al modelo, la correrá usando el método `forward()`"
   ]
  },
  {
   "cell_type": "markdown",
   "metadata": {},
   "source": [
    "Documentación de `inference mode`: \n",
    "* https://pytorch.org/cppdocs/notes/inference_mode.html\n",
    "\n",
    "* https://pytorch.org/docs/stable/generated/torch.autograd.grad_mode.inference_mode.html\n",
    "\n",
    "* https://x.com/PyTorch/status/1437838231505096708?mx=2\n"
   ]
  },
  {
   "cell_type": "code",
   "execution_count": 20,
   "metadata": {},
   "outputs": [
    {
     "data": {
      "text/plain": [
       "tensor([[0.3982],\n",
       "        [0.4049],\n",
       "        [0.4116],\n",
       "        [0.4184],\n",
       "        [0.4251],\n",
       "        [0.4318],\n",
       "        [0.4386],\n",
       "        [0.4453],\n",
       "        [0.4520],\n",
       "        [0.4588]], grad_fn=<AddBackward0>)"
      ]
     },
     "execution_count": 20,
     "metadata": {},
     "output_type": "execute_result"
    }
   ],
   "source": [
    "y_preds = model0(X_test)\n",
    "y_preds"
   ]
  },
  {
   "cell_type": "markdown",
   "metadata": {},
   "source": [
    "Como se muestra anteriormente, el gradiente se sigue trackeando al realizar predicciones, pero esto no es necesario por lo cual se alentan los cálculos; cuando se trabaja con grandes cantidades de datos ésto se vuelve evidente y repercute en los tiempos de ejecución.\n",
    "\n",
    "Para evitar seguir trackeando los gradientes se hace uso de `torch.inference_mode()`.\n",
    "\n",
    "Al utilizar `torch.inference_mode()` se utiliza el `context manager` (administrador de contexto) para evitar trackear los gradientes de los datos, ya que no son necesario para hacer inferencias, solo para el entrenamiento, de esta forma se agilizan los cálculos realizados.\n",
    "\n",
    "Cabe mencionar que también se puede utilizar `torch.no_grad()`."
   ]
  },
  {
   "cell_type": "code",
   "execution_count": 21,
   "metadata": {},
   "outputs": [
    {
     "data": {
      "text/plain": [
       "tensor([[0.3982],\n",
       "        [0.4049],\n",
       "        [0.4116],\n",
       "        [0.4184],\n",
       "        [0.4251],\n",
       "        [0.4318],\n",
       "        [0.4386],\n",
       "        [0.4453],\n",
       "        [0.4520],\n",
       "        [0.4588]])"
      ]
     },
     "execution_count": 21,
     "metadata": {},
     "output_type": "execute_result"
    }
   ],
   "source": [
    "with torch.no_grad():\n",
    "    y_preds = model0(X_test)\n",
    "\n",
    "y_preds"
   ]
  },
  {
   "cell_type": "markdown",
   "metadata": {},
   "source": [
    "Sin embargo, es mucho más recomendable utilizar `torch.inference_mode()`, como se muestra a continuación:"
   ]
  },
  {
   "cell_type": "code",
   "execution_count": 22,
   "metadata": {},
   "outputs": [
    {
     "data": {
      "text/plain": [
       "tensor([[0.3982],\n",
       "        [0.4049],\n",
       "        [0.4116],\n",
       "        [0.4184],\n",
       "        [0.4251],\n",
       "        [0.4318],\n",
       "        [0.4386],\n",
       "        [0.4453],\n",
       "        [0.4520],\n",
       "        [0.4588]])"
      ]
     },
     "execution_count": 22,
     "metadata": {},
     "output_type": "execute_result"
    }
   ],
   "source": [
    "with torch.inference_mode():\n",
    "    y_preds = model0(X_test)\n",
    "\n",
    "y_preds"
   ]
  },
  {
   "cell_type": "markdown",
   "metadata": {},
   "source": [
    "Esto se explica en el siguiente hilo de X:\n",
    "\n",
    "https://x.com/PyTorch/status/1437838231505096708?mx=2\n",
    "\n",
    "Comparando con los resultados deseados:"
   ]
  },
  {
   "cell_type": "code",
   "execution_count": 23,
   "metadata": {},
   "outputs": [
    {
     "data": {
      "text/plain": [
       "tensor([[0.8600],\n",
       "        [0.8740],\n",
       "        [0.8880],\n",
       "        [0.9020],\n",
       "        [0.9160],\n",
       "        [0.9300],\n",
       "        [0.9440],\n",
       "        [0.9580],\n",
       "        [0.9720],\n",
       "        [0.9860]])"
      ]
     },
     "execution_count": 23,
     "metadata": {},
     "output_type": "execute_result"
    }
   ],
   "source": [
    "y_test"
   ]
  },
  {
   "cell_type": "code",
   "execution_count": 24,
   "metadata": {},
   "outputs": [
    {
     "data": {
      "text/plain": [
       "tensor([[0.4618],\n",
       "        [0.4691],\n",
       "        [0.4764],\n",
       "        [0.4836],\n",
       "        [0.4909],\n",
       "        [0.4982],\n",
       "        [0.5054],\n",
       "        [0.5127],\n",
       "        [0.5200],\n",
       "        [0.5272]])"
      ]
     },
     "execution_count": 24,
     "metadata": {},
     "output_type": "execute_result"
    }
   ],
   "source": [
    "y_test - y_preds"
   ]
  },
  {
   "cell_type": "code",
   "execution_count": 25,
   "metadata": {},
   "outputs": [
    {
     "data": {
      "text/plain": [
       "tensor([[0.2133],\n",
       "        [0.2201],\n",
       "        [0.2269],\n",
       "        [0.2339],\n",
       "        [0.2410],\n",
       "        [0.2482],\n",
       "        [0.2555],\n",
       "        [0.2629],\n",
       "        [0.2704],\n",
       "        [0.2780]])"
      ]
     },
     "execution_count": 25,
     "metadata": {},
     "output_type": "execute_result"
    }
   ],
   "source": [
    "(y_test - y_preds) * (y_test - y_preds)"
   ]
  },
  {
   "cell_type": "markdown",
   "metadata": {},
   "source": [
    "Podemos visualizarlo de la siguiente forma:"
   ]
  },
  {
   "cell_type": "code",
   "execution_count": 26,
   "metadata": {},
   "outputs": [
    {
     "data": {
      "image/png": "[encoded data removed]",
      "text/plain": [
       "<Figure size 1000x700 with 1 Axes>"
      ]
     },
     "metadata": {},
     "output_type": "display_data"
    }
   ],
   "source": [
    "plot_predictions(predictions=y_preds)"
   ]
  },
  {
   "cell_type": "markdown",
   "metadata": {},
   "source": [
    "## 3. Entrenamiento del Modelo"
   ]
  },
  {
   "cell_type": "markdown",
   "metadata": {},
   "source": [
    "El propósito del entrenamiento del modelo es modificar sus parámetros (inicializados con valores aleatorios) hasta obtener una buena representación de la data; mejorando así la presición de la red\n",
    "\n",
    "Una forma de definir la presición de la red es con el uso de una función de error, conocida como `loss function` (función de pérdida), `cost function` (función de costo) o `criterion`\n",
    "\n",
    "Documentación:\n",
    "\n",
    "* https://pytorch.org/docs/stable/nn.html#loss-functions\n",
    "\n",
    "* https://neptune.ai/blog/pytorch-loss-functions"
   ]
  },
  {
   "cell_type": "markdown",
   "metadata": {},
   "source": [
    "### Fundamentos del Entrenamiento del Modelo:"
   ]
  },
  {
   "cell_type": "markdown",
   "metadata": {},
   "source": [
    "* **Loss Function**:\n",
    "\n",
    "En concreto, una función de pérdida es una función de medición de la presición de nuestro modelo; comparando que tan erróneas son las salidas del modelo con respecto a los resultados deseados\n",
    "\n",
    "Por lo tanto, se busca minimizar ésta función utilizando distintos métodos y algoritmos, como:\n",
    "\n",
    "* Gradient Descent (Descenso del Gradiente)\n",
    "\n",
    "https://www.youtube.com/watch?v=IHZwWFHWa-w\n",
    "\n",
    "* Backpropagation (Retropropagación)\n",
    "\n",
    "https://www.youtube.com/watch?v=Ilg3gGewQ5U\n",
    "\n",
    "https://www.youtube.com/watch?v=tIeHLnjs5U8\n",
    "\n",
    "* **Optimizer**\n",
    "\n",
    "Los optimizadores son utilizados, en general, en todo Machine Learning. \n",
    "\n",
    "Toma en consideración la pérdida de un modelo y ajusta sus parámetros (weights y bias, en nuestro caso) para mejorar la función de pérdida (minimizarla)\n",
    "\n",
    "Documentación: https://pytorch.org/docs/stable/optim.html\n",
    "\n",
    "* **Testing and Training Loop**:\n",
    "\n",
    "Para PyTorch, se necesita hacer uso de un ciclo de entrenamiento y uno de pruebas"
   ]
  },
  {
   "cell_type": "markdown",
   "metadata": {},
   "source": [
    "### Loss Functions:"
   ]
  },
  {
   "cell_type": "markdown",
   "metadata": {},
   "source": [
    "Documentación:\n",
    "\n",
    "https://pytorch.org/docs/stable/nn.html#loss-functions\n",
    "\n",
    "Dentro de la documentación de Pytorch para las funciones de error (loss function) se encuentran las siguientes:\n",
    "\n",
    "| **Función de Pérdida**       | **Descripción**                                                                                  | **Uso Común**                                     | **Parámetros Clave**              |\n",
    "|------------------------------|--------------------------------------------------------------------------------------------------|--------------------------------------------------|------------------------------------|\n",
    "| `nn.MSELoss`                 | Error cuadrático medio (Mean Squared Error). Calcula la media de los cuadrados de las diferencias entre el input y el target. | Problemas de regresión.                         | `reduction`: `'mean'`, `'sum'`.   |\n",
    "| `nn.L1Loss`                  | Pérdida absoluta media. Calcula la media de las diferencias absolutas entre el input y el target. | Problemas de regresión.                         | `reduction`: `'mean'`, `'sum'`.   |\n",
    "| `nn.SmoothL1Loss`            | Mezcla de MSE y L1 Loss para manejar outliers de manera más estable.                          | Regresión robusta.                              | `beta`, `reduction`.              |\n",
    "| `nn.HuberLoss`               | Combina propiedades de MSE y L1 para ser más robusta a outliers.                              | Regresión robusta.                              | `delta`, `reduction`.             |\n",
    "| `nn.CrossEntropyLoss`        | Combina `LogSoftmax` y `NLLLoss` para clasificación multiclase.                                | Clasificación multiclase.                        | `weight`, `ignore_index`, `reduction`. |\n",
    "| `nn.NLLLoss`                 | Negative Log Likelihood Loss.                                                                  | Clasificación multiclase con `LogSoftmax`.      | `weight`, `ignore_index`, `reduction`. |\n",
    "| `nn.MultiMarginLoss`         | Pérdida multicategoría con márgenes.                                                          | Clasificación multiclase.                       | `p`, `margin`, `weight`, `reduction`. |\n",
    "| `nn.BCELoss`                 | Binary Cross Entropy Loss.                                                                     | Clasificación binaria.                          | `weight`, `reduction`.            |\n",
    "| `nn.BCEWithLogitsLoss`       | Combina una capa de sigmoid y `BCELoss` para estabilidad numérica.                            | Clasificación binaria.                          | `weight`, `pos_weight`, `reduction`. |\n",
    "| `nn.MultiLabelMarginLoss`    | Pérdida basada en márgenes para etiquetas multilabel.                                          | Clasificación multilabel.                       | `reduction`.                      |\n",
    "| `nn.MultiLabelSoftMarginLoss`| Pérdida basada en etiquetas multilabel usando sigmoid.                                         | Clasificación multilabel.                       | `weight`, `reduction`.            |\n",
    "| `nn.MarginRankingLoss`       | Pérdida basada en márgenes entre pares de datos.                                              | Aprendizaje de rankings.                        | `margin`, `reduction`.            |\n",
    "| `nn.TripletMarginLoss`       | Calcula la pérdida para embeddings usando anclajes, positivos y negativos.                    | Aprendizaje de métricas.                        | `margin`, `p`, `eps`, `swap`, `reduction`. |\n",
    "| `nn.CosineEmbeddingLoss`     | Pérdida basada en similitud de coseno entre pares de vectores.                                | Clasificación con embeddings.                   | `margin`, `reduction`.            |\n",
    "| `nn.KLDivLoss`               | Divergencia Kullback-Leibler entre distribuciones.                                             | Modelos probabilísticos.                        | `log_target`, `reduction`.        |\n",
    "| `nn.HingeEmbeddingLoss`      | Pérdida para clasificación binaria cuando los targets son `1` o `-1`.                         | Detección de outliers, clasificación binaria.   | `margin`, `reduction`.            |\n",
    "| `nn.CTCLoss`                 | Connectionist Temporal Classification Loss, usada en secuencias de longitud variable.          | Reconocimiento de voz, OCR.                     | `blank`, `reduction`, `zero_infinity`. |\n"
   ]
  },
  {
   "cell_type": "markdown",
   "metadata": {},
   "source": [
    "#### Mean Absolute Error (`torch.nn.L1Loss`)"
   ]
  },
  {
   "cell_type": "markdown",
   "metadata": {},
   "source": [
    "Expresado de la siguiente forma:\n",
    "\n",
    "$$MAE = \\frac{1}{n} \\sum_i^{n} \\left|\\hat{y_i} - y_i \\right|$$\n",
    "\n",
    "Donde:\n",
    "\n",
    "* MAE: Error absoluto medio\n",
    "\n",
    "* n: Número de observaciones\n",
    "\n",
    "* $y_i$: Valor real o deseado para el i-ésimo data point\n",
    "\n",
    "* $\\hat{y_i}$: Predicción del i-ésimo data point\n",
    "\n",
    "Dentro de PyTorch se puede implementar de 2 formas distintas:\n",
    "\n",
    "1) `MAE_loss = torch.mean(torch.abs(y_pred - y_test))`\n",
    "\n",
    "2) `MAE_loss = torch.nn.L1Loss`\n",
    "\n",
    "Sin embargo, se recomienda usar la 2da opción debido a que ésta se encuentra optimizada\n"
   ]
  },
  {
   "cell_type": "markdown",
   "metadata": {},
   "source": [
    "### Optimizer:"
   ]
  },
  {
   "cell_type": "markdown",
   "metadata": {},
   "source": [
    "Documentación: \n",
    "\n",
    "https://pytorch.org/docs/stable/optim.html\n",
    "\n",
    "Dentro de la documentación de Pytorch para los optimizadores (optimizer) se encuentran los siguientes:\n",
    "\n",
    "\n",
    "| **Optimizador**       | **Descripción**                                                                 | **Uso Común**                         | **Parámetros Clave**                                 |\n",
    "|-----------------------|---------------------------------------------------------------------------------|---------------------------------------|-----------------------------------------------------|\n",
    "| `torch.optim.SGD`     | Descenso de gradiente estocástico, con soporte para momentum y peso decay.      | Problemas generales de optimización.  | `lr`, `momentum`, `weight_decay`, `nesterov`.       |\n",
    "| `torch.optim.Adam`    | Combina las ventajas de AdaGrad y RMSProp; popular para redes neuronales.       | Entrenamiento general de redes.       | `lr`, `betas`, `eps`, `weight_decay`, `amsgrad`.    |\n",
    "| `torch.optim.AdamW`   | Variante de Adam que implementa decaimiento del peso de forma correcta.         | Modelos de Transformers.              | `lr`, `betas`, `eps`, `weight_decay`, `amsgrad`.    |\n",
    "| `torch.optim.RMSprop` | Optimización basada en gradientes con suavizado de tasas de aprendizaje.        | Modelos RNN y redes profundas.        | `lr`, `alpha`, `eps`, `weight_decay`, `momentum`.   |\n",
    "| `torch.optim.Adagrad` | Ajusta la tasa de aprendizaje individualmente para cada parámetro.              | Modelos con alta dimensionalidad.     | `lr`, `lr_decay`, `weight_decay`, `eps`.           |\n",
    "| `torch.optim.Adadelta`| Variante de Adagrad con mayor flexibilidad y sin acumulación de gradientes.     | Modelos con gradientes escasos.       | `lr`, `rho`, `eps`, `weight_decay`.                |\n",
    "| `torch.optim.ASGD`    | Promedio estocástico acelerado. Mejora la generalización en algunos problemas.  | Modelos con problemas de convergencia.| `lr`, `lambd`, `alpha`, `t0`, `weight_decay`.       |\n",
    "| `torch.optim.LBFGS`   | Método de optimización de segundo orden, para problemas pequeños.               | Modelos con pocos parámetros.         | `lr`, `max_iter`, `max_eval`, `history_size`.       |\n",
    "| `torch.optim.SparseAdam` | Variante de Adam para tensores dispersos.                                     | Modelos con gradientes dispersos.     | `lr`, `betas`, `eps`.                              |\n",
    "| `torch.optim.NAdam`   | Adam con decaimiento de Nesterov.                                               | Redes profundas con convergencia lenta.| `lr`, `betas`, `eps`, `weight_decay`.              |\n",
    "| `torch.optim.Rprop`   | Optimización por propagación de resiliencia (resilient backpropagation).        | Redes neuronales pequeñas.            | `lr`, `etas`, `step_sizes`.                        |\n"
   ]
  },
  {
   "cell_type": "markdown",
   "metadata": {},
   "source": [
    "Cada uno se utiliza para casos distintos, sin embargo, debido a que todos son algoritmos poderosos y muy probados, es posible experimentar con distintos algoritmos. \n",
    "\n",
    "El más popular es `SGD` ó `torch.optim.SGD`, el cual resulta ser una implementación del método de gradiente descendiente estocastico (`stochastic gradient descent`).\n",
    "\n",
    "`SGD` inicializa los parámetros (weights y bias) con valores aleatorios y trata de ajustarlos aleatoriamente para mejorar la representación de la data y, por ende, la presición del modelo. Una vez encuentre valores que minimize la función de pérdida, continua ajustando los parámetros en esta dirección.\n",
    "\n",
    "Indagar en la documentación: https://pytorch.org/docs/stable/generated/torch.optim.SGD.html#torch.optim.SGD"
   ]
  },
  {
   "cell_type": "markdown",
   "metadata": {},
   "source": [
    "### ¿Cual función de pérdida y optimizador utilizar?"
   ]
  },
  {
   "cell_type": "markdown",
   "metadata": {},
   "source": [
    "En general se eligen de acuerdo al problema a modelar, conforme se haga uso de ellos se entenderá mejor el uso particula de cada uno.\n",
    "\n",
    "Por ejemplo:\n",
    "\n",
    "* Regresión Lineal:\n",
    "\n",
    "Se suelen utilizar `torch.nn.L1Loss()` y `torch.optim.SGD()` respectivamente\n",
    "\n",
    "* Clasificación:\n",
    "\n",
    "Para un problema de clasificación como pude ser de imágenes se puede utilizar una función de pérdida `Binary Cross Entropy Loss` declarada como `torch.nn.BCELoss()`"
   ]
  },
  {
   "cell_type": "markdown",
   "metadata": {},
   "source": [
    "### Setup Loss Function and Optimizer"
   ]
  },
  {
   "cell_type": "markdown",
   "metadata": {},
   "source": [
    "Revisar los parámetros del modelo:"
   ]
  },
  {
   "cell_type": "code",
   "execution_count": 27,
   "metadata": {},
   "outputs": [
    {
     "data": {
      "text/plain": [
       "[Parameter containing:\n",
       " tensor([0.3367], requires_grad=True),\n",
       " Parameter containing:\n",
       " tensor([0.1288], requires_grad=True)]"
      ]
     },
     "execution_count": 27,
     "metadata": {},
     "output_type": "execute_result"
    }
   ],
   "source": [
    "list(model0.parameters())"
   ]
  },
  {
   "cell_type": "code",
   "execution_count": 28,
   "metadata": {},
   "outputs": [
    {
     "data": {
      "text/plain": [
       "OrderedDict([('weights', tensor([0.3367])), ('bias', tensor([0.1288]))])"
      ]
     },
     "execution_count": 28,
     "metadata": {},
     "output_type": "execute_result"
    }
   ],
   "source": [
    "model0.state_dict()"
   ]
  },
  {
   "cell_type": "markdown",
   "metadata": {},
   "source": [
    "Para crear la función de pérdida utilizamos: `torch.nn.L1Loss()`"
   ]
  },
  {
   "cell_type": "code",
   "execution_count": 29,
   "metadata": {},
   "outputs": [
    {
     "data": {
      "text/plain": [
       "L1Loss()"
      ]
     },
     "execution_count": 29,
     "metadata": {},
     "output_type": "execute_result"
    }
   ],
   "source": [
    "# Crear función de pérdidas\n",
    "loss_fn = nn.L1Loss()\n",
    "loss_fn"
   ]
  },
  {
   "cell_type": "markdown",
   "metadata": {},
   "source": [
    "Mientras que para el optimizador usamos el de gradiente descendiente estocástico SGD: `torch.optim.SGD()`\n",
    "\n",
    "Este método toma los siguiente parámetos:\n",
    "\n",
    "* `params`: \n",
    "\n",
    "Parámetros del modelo creado. \n",
    "\n",
    "Podemos acceder con `model.parameters()` o visualizarlos con `model.state_dict()`\n",
    "\n",
    "* `lr`: \n",
    "\n",
    "Learning rate \n",
    "\n",
    "Determina que tanto se modifican los parámetros del modelo por cada iteración de entrenamiento. Mientras mayor sea, más se modificarán los parámetros cada iteración.\n",
    "\n",
    "En un \"hiper-parámetro\" el cual definimos nosotros, sin embargo, algunos valores comunes son: 0.1, 0.01, 0.001 y 0.0001"
   ]
  },
  {
   "cell_type": "code",
   "execution_count": 30,
   "metadata": {},
   "outputs": [
    {
     "data": {
      "text/plain": [
       "SGD (\n",
       "Parameter Group 0\n",
       "    dampening: 0\n",
       "    differentiable: False\n",
       "    foreach: None\n",
       "    fused: None\n",
       "    lr: 0.01\n",
       "    maximize: False\n",
       "    momentum: 0\n",
       "    nesterov: False\n",
       "    weight_decay: 0\n",
       ")"
      ]
     },
     "execution_count": 30,
     "metadata": {},
     "output_type": "execute_result"
    }
   ],
   "source": [
    "optimizer = torch.optim.SGD(params=model0.parameters(),\n",
    "                            lr=0.01)\n",
    "optimizer"
   ]
  },
  {
   "cell_type": "markdown",
   "metadata": {},
   "source": [
    "### Crear un Training Loop y un Testing Loop en PyTorch"
   ]
  },
  {
   "cell_type": "markdown",
   "metadata": {},
   "source": [
    "Para ello necesitamos:\n",
    "\n",
    "0. Iterar la data y realizar los pasos 1-5:\n",
    "\n",
    "Para ello se hace uso de `epochs`, un epoch es una vuelta a través de la data utilizando un loop.\n",
    "\n",
    "Son hiper-parámetros debido a que lo definimos nosotros.\n",
    "\n",
    "1. `Forward pass`:\n",
    "\n",
    "Involucra pasar la data a través del método `forward()` de nuestro modelo para realizar predicciones.\n",
    "\n",
    "También conocido como `forward propagation`.\n",
    "\n",
    "2. Calcular la pérdida:\n",
    "\n",
    "Comparar la predicciones realizadas por `forward pass` con respecto a los resultados deseados.\n",
    "\n",
    "3. `Optimizer Zero Grad`:\n",
    "\n",
    "Conforme se realiza el loop de entrenamiento, los cambios realizados en el optimizador se irán acumulando por defecto. \n",
    "\n",
    "Para evitar esto debemos hacerlos nulos usando `optimizer.zero_grad()`.\n",
    "\n",
    "4. `Loss Backward`:\n",
    "\n",
    "Movimiento hacia atrás de la red para calcular los gradientes de cada parámetro de nuestro modelo con respecto a la pérdida.\n",
    "\n",
    "En concreto, es el algoritmo de retropropagación `Backpropagation`\n",
    "\n",
    "5. `Optimizer Step`:\n",
    "\n",
    "Utilizar el optimizador para ajustar los parámetros del modelo con el propósito de minimizar la pérdida.\n",
    "\n",
    "Y este es el algoritmo de descenso de gradiente `Gradient Descent`\n",
    "\n",
    "Antes del entrenamiento los parámetros tienen esta forma:"
   ]
  },
  {
   "cell_type": "code",
   "execution_count": 31,
   "metadata": {},
   "outputs": [
    {
     "data": {
      "text/plain": [
       "OrderedDict([('weights', tensor([0.3367])), ('bias', tensor([0.1288]))])"
      ]
     },
     "execution_count": 31,
     "metadata": {},
     "output_type": "execute_result"
    }
   ],
   "source": [
    "model0.state_dict()"
   ]
  },
  {
   "cell_type": "code",
   "execution_count": 32,
   "metadata": {},
   "outputs": [
    {
     "name": "stdout",
     "output_type": "stream",
     "text": [
      "Epoch: 0 | MAE Training Loss: 0.31288138031959534 | MAE Test Loss: 0.4480651915073395\n",
      "Parámetros del modelo: \n",
      "OrderedDict([('weights', tensor([0.3406])), ('bias', tensor([0.1388]))])\n",
      "\n",
      "\n",
      "Epoch: 10 | MAE Training Loss: 0.1976713240146637 | MAE Test Loss: 0.3133552074432373\n",
      "Parámetros del modelo: \n",
      "OrderedDict([('weights', tensor([0.3796])), ('bias', tensor([0.2388]))])\n",
      "\n",
      "\n",
      "Epoch: 20 | MAE Training Loss: 0.08908725529909134 | MAE Test Loss: 0.18429657816886902\n",
      "Parámetros del modelo: \n",
      "OrderedDict([('weights', tensor([0.4184])), ('bias', tensor([0.3333]))])\n",
      "\n",
      "\n",
      "Epoch: 30 | MAE Training Loss: 0.053148526698350906 | MAE Test Loss: 0.11164019256830215\n",
      "Parámetros del modelo: \n",
      "OrderedDict([('weights', tensor([0.4512])), ('bias', tensor([0.3768]))])\n",
      "\n",
      "\n",
      "Epoch: 40 | MAE Training Loss: 0.04543796554207802 | MAE Test Loss: 0.08060953766107559\n",
      "Parámetros del modelo: \n",
      "OrderedDict([('weights', tensor([0.4748])), ('bias', tensor([0.3868]))])\n",
      "\n",
      "\n",
      "Epoch: 50 | MAE Training Loss: 0.04167863354086876 | MAE Test Loss: 0.06619948148727417\n",
      "Parámetros del modelo: \n",
      "OrderedDict([('weights', tensor([0.4938])), ('bias', tensor([0.3843]))])\n",
      "\n",
      "\n",
      "Epoch: 60 | MAE Training Loss: 0.03818932920694351 | MAE Test Loss: 0.05586633086204529\n",
      "Parámetros del modelo: \n",
      "OrderedDict([('weights', tensor([0.5116])), ('bias', tensor([0.3788]))])\n",
      "\n",
      "\n",
      "Epoch: 70 | MAE Training Loss: 0.03476089984178543 | MAE Test Loss: 0.04759376496076584\n",
      "Parámetros del modelo: \n",
      "OrderedDict([('weights', tensor([0.5288])), ('bias', tensor([0.3718]))])\n",
      "\n",
      "\n",
      "Epoch: 80 | MAE Training Loss: 0.03132382780313492 | MAE Test Loss: 0.03963042423129082\n",
      "Parámetros del modelo: \n",
      "OrderedDict([('weights', tensor([0.5459])), ('bias', tensor([0.3648]))])\n",
      "\n",
      "\n",
      "Epoch: 90 | MAE Training Loss: 0.02788739837706089 | MAE Test Loss: 0.03325678035616875\n",
      "Parámetros del modelo: \n",
      "OrderedDict([('weights', tensor([0.5629])), ('bias', tensor([0.3573]))])\n",
      "\n",
      "\n",
      "Epoch: 100 | MAE Training Loss: 0.024458957836031914 | MAE Test Loss: 0.027516866102814674\n",
      "Parámetros del modelo: \n",
      "OrderedDict([('weights', tensor([0.5800])), ('bias', tensor([0.3503]))])\n",
      "\n",
      "\n",
      "Epoch: 110 | MAE Training Loss: 0.021020207554101944 | MAE Test Loss: 0.022994190454483032\n",
      "Parámetros del modelo: \n",
      "OrderedDict([('weights', tensor([0.5972])), ('bias', tensor([0.3433]))])\n",
      "\n",
      "\n",
      "Epoch: 120 | MAE Training Loss: 0.01758546568453312 | MAE Test Loss: 0.020042216405272484\n",
      "Parámetros del modelo: \n",
      "OrderedDict([('weights', tensor([0.6141])), ('bias', tensor([0.3358]))])\n",
      "\n",
      "\n",
      "Epoch: 130 | MAE Training Loss: 0.014155393466353416 | MAE Test Loss: 0.018434971570968628\n",
      "Parámetros del modelo: \n",
      "OrderedDict([('weights', tensor([0.6313])), ('bias', tensor([0.3288]))])\n",
      "\n",
      "\n",
      "Epoch: 140 | MAE Training Loss: 0.010716589167714119 | MAE Test Loss: 0.01866193488240242\n",
      "Parámetros del modelo: \n",
      "OrderedDict([('weights', tensor([0.6485])), ('bias', tensor([0.3218]))])\n",
      "\n",
      "\n",
      "Epoch: 150 | MAE Training Loss: 0.0072835334576666355 | MAE Test Loss: 0.020663117989897728\n",
      "Parámetros del modelo: \n",
      "OrderedDict([('weights', tensor([0.6654])), ('bias', tensor([0.3143]))])\n",
      "\n",
      "\n",
      "Epoch: 160 | MAE Training Loss: 0.0038517764769494534 | MAE Test Loss: 0.02555248700082302\n",
      "Parámetros del modelo: \n",
      "OrderedDict([('weights', tensor([0.6826])), ('bias', tensor([0.3073]))])\n",
      "\n",
      "\n",
      "Epoch: 170 | MAE Training Loss: 0.008932482451200485 | MAE Test Loss: 0.027976905927062035\n",
      "Parámetros del modelo: \n",
      "OrderedDict([('weights', tensor([0.6951])), ('bias', tensor([0.2993]))])\n",
      "\n",
      "\n",
      "Epoch: 180 | MAE Training Loss: 0.008932482451200485 | MAE Test Loss: 0.027976905927062035\n",
      "Parámetros del modelo: \n",
      "OrderedDict([('weights', tensor([0.6951])), ('bias', tensor([0.2993]))])\n",
      "\n",
      "\n",
      "Epoch: 190 | MAE Training Loss: 0.008932482451200485 | MAE Test Loss: 0.027976905927062035\n",
      "Parámetros del modelo: \n",
      "OrderedDict([('weights', tensor([0.6951])), ('bias', tensor([0.2993]))])\n",
      "\n",
      "\n",
      "Epoch: 199 | MAE Training Loss: 0.0025885067880153656 | MAE Test Loss: 0.04144788905978203\n",
      "Parámetros del modelo: \n",
      "OrderedDict([('weights', tensor([0.6990])), ('bias', tensor([0.3093]))])\n"
     ]
    }
   ],
   "source": [
    "# Definimos una semilla para tener reproducibilidad (Optativo)\n",
    "torch.manual_seed(42)\n",
    "\n",
    "# Creación del loop de ENTRENAMIENTO\n",
    "# También lo usaremos para TESTING\n",
    "epochs = 200\n",
    "#epochs = 10000\n",
    "\n",
    "# Trackear distintos valores\n",
    "epoch_count = []\n",
    "loss_values = []\n",
    "test_loss_values = []\n",
    "\n",
    "for epoch in range(epochs):\n",
    "\n",
    "    # ENTRENAMIENTO\n",
    "\n",
    "    model0.train()\n",
    "\n",
    "    train_pred = model0(X_train)\n",
    "\n",
    "    loss = loss_fn(train_pred, y_train)\n",
    "    # print(f\"Loss: {loss}\") # Verificar pérdida (Optativo)\n",
    "\n",
    "    optimizer.zero_grad()\n",
    "\n",
    "    loss.backward()\n",
    "\n",
    "    optimizer.step()\n",
    "\n",
    "    # TESTING:\n",
    "\n",
    "    model0.eval()\n",
    "    with torch.inference_mode():\n",
    "        # 1. Forward pass\n",
    "        test_pred = model0(X_test) \n",
    "\n",
    "        # 2. Calcular pérdida:\n",
    "        test_loss = loss_fn(test_pred, X_test)\n",
    "\n",
    "    if epoch % 10 == 0:\n",
    "\n",
    "        epoch_count.append(epoch)\n",
    "        loss_values.append(loss)\n",
    "        test_loss_values.append(test_loss)\n",
    "\n",
    "        print(f\"Epoch: {epoch} | MAE Training Loss: {loss} | MAE Test Loss: {test_loss}\")\n",
    "        print(f\"Parámetros del modelo: \\n{model0.state_dict()}\")\n",
    "        print(\"\\n\") \n",
    "        \n",
    "print(f\"Epoch: {epoch} | MAE Training Loss: {loss} | MAE Test Loss: {test_loss}\")\n",
    "print(f\"Parámetros del modelo: \\n{model0.state_dict()}\")"
   ]
  },
  {
   "cell_type": "code",
   "execution_count": 33,
   "metadata": {},
   "outputs": [
    {
     "name": "stdout",
     "output_type": "stream",
     "text": [
      "Pérdida del modelo: 0.0025885067880153656\n",
      "Parámetros del modelo: OrderedDict([('weights', tensor([0.6990])), ('bias', tensor([0.3093]))])\n",
      "Parámetros deseados: weight = 0.7, bias = 0.3\n"
     ]
    }
   ],
   "source": [
    "print(f\"Pérdida del modelo: {loss}\")\n",
    "print(f\"Parámetros del modelo: {model0.state_dict()}\")\n",
    "print(f\"Parámetros deseados: weight = {weight}, bias = {bias}\")"
   ]
  },
  {
   "cell_type": "markdown",
   "metadata": {},
   "source": [
    "En concreto, el loop de entrenamiento está conformado de lo siguiente:\n",
    "\n",
    "* Definir epochs y crear el loop: \n",
    "\n",
    "Cuantas iteraciones realizará el ciclo\n",
    "\n",
    "* Activar modo de entrenamiento: \n",
    "\n",
    "Usando `model.train()` para obligar que se requieran los gradientes en cada instancia que sea posible.\n",
    "\n",
    "Documentación: https://pytorch.org/tutorials/beginner/introyt/trainingyt.html\n",
    "\n",
    "* Realizar forward dando nuestra data al modelo: \n",
    "\n",
    "Pasar la data al modelo, para que realice su método `forward()` definido dentro de la clase modelo para la instancia utilizada.\n",
    "\n",
    "* Calcular las pérdidas del modelo: \n",
    "\n",
    "Antes del ciclo elegir una función de pérdida y definirla, en este caso: \n",
    "\n",
    "`loss_fn = torch.nn.L1Loss()`\n",
    "\n",
    "Dentro del ciclo, evaluar las predicciones con los datos de entrenamiento esperados: \n",
    "\n",
    "`loss = loss_fn(y_preds - y_train)`\n",
    "\n",
    "* Denifir optimizador y hacer nulos los cambios al optimizador:\n",
    "\n",
    "Antes del ciclo se elige un optimizador y se define, en este caso como: \n",
    "\n",
    "`optimizer = torch.optim.SGD(params=model0.parameters(), lr=0.001)`\n",
    "\n",
    "Dentro del ciclo, durante cada iteración se modificará el optimizador y éstos cambios se acumularán, por lo tanto, se define `optimizer.zero_grad()` para hacerlos nulos en cada iteración.\n",
    "\n",
    "* Backpropagation en la función de pérdida:\n",
    "\n",
    "Se realiza el Backpropagation en la función de pérdida con respecto a los parámetros, usando: \n",
    "\n",
    "`loss.backward()`\n",
    "\n",
    "En concreto, se computa el gradiente en cada parámetro con `requires_grad = True`\n",
    "\n",
    "* Avanzar en pasos con el optimizador:\n",
    "\n",
    "En cada iteración se hace un paso para llegar a mínimo. Mientras más nos acerquemos al mínimo, menor deben ser los pasos para no pasarnos del valor buscado.\n",
    "\n",
    "Se utiliza: `optimizer.step()`\n",
    "\n",
    "En otras palabras, se toma un paso con el optimizador con el objetivo de buscar el mínimo de la función de pérdida, actualizando los parámetros del modelo con respecto a los gradientes calculados con `loss.backward()`\n",
    "\n",
    "* Apagar el modo entrenamiento:\n",
    "\n",
    "Para ello se utiliza `model.eval()`\n",
    "\n",
    "Documentación: https://discuss.pytorch.org/t/where-to-use-model-eval/89200\n",
    "\n",
    "Queremos que los parámetros se conviertan en:"
   ]
  },
  {
   "cell_type": "code",
   "execution_count": 34,
   "metadata": {},
   "outputs": [
    {
     "data": {
      "text/plain": [
       "(0.7, 0.3)"
      ]
     },
     "execution_count": 34,
     "metadata": {},
     "output_type": "execute_result"
    }
   ],
   "source": [
    "weight, bias"
   ]
  },
  {
   "cell_type": "markdown",
   "metadata": {},
   "source": [
    "Una vez ejecutado el loop de entrenamiento:"
   ]
  },
  {
   "cell_type": "code",
   "execution_count": 35,
   "metadata": {},
   "outputs": [
    {
     "data": {
      "text/plain": [
       "OrderedDict([('weights', tensor([0.6990])), ('bias', tensor([0.3093]))])"
      ]
     },
     "execution_count": 35,
     "metadata": {},
     "output_type": "execute_result"
    }
   ],
   "source": [
    "model0.state_dict()"
   ]
  },
  {
   "cell_type": "markdown",
   "metadata": {},
   "source": [
    "Los parámetros cambiaron en una medida de 0.001 para aproximarse a los deseados (0.7 para el peso y 0.3 para el bias).\n",
    "\n",
    "Debido a que el número de epochs (iteraciones del loop) es tan mínimo (solo fue 1) seguimos muy alejados de los valores deseados."
   ]
  },
  {
   "cell_type": "markdown",
   "metadata": {},
   "source": [
    "## 4. Predicciones y Evaluación del Modelo"
   ]
  },
  {
   "cell_type": "markdown",
   "metadata": {},
   "source": [
    "Realizando predicciones después de 200 epochs:"
   ]
  },
  {
   "cell_type": "code",
   "execution_count": 36,
   "metadata": {},
   "outputs": [
    {
     "data": {
      "text/plain": [
       "tensor([[0.8685],\n",
       "        [0.8825],\n",
       "        [0.8965],\n",
       "        [0.9105],\n",
       "        [0.9245],\n",
       "        [0.9384],\n",
       "        [0.9524],\n",
       "        [0.9664],\n",
       "        [0.9804],\n",
       "        [0.9944]])"
      ]
     },
     "execution_count": 36,
     "metadata": {},
     "output_type": "execute_result"
    }
   ],
   "source": [
    "with torch.inference_mode():\n",
    "    y_preds_new = model0(X_test)\n",
    "y_preds_new # Predicciones con 200 epochs"
   ]
  },
  {
   "cell_type": "code",
   "execution_count": 37,
   "metadata": {},
   "outputs": [
    {
     "data": {
      "text/plain": [
       "tensor([[0.8600],\n",
       "        [0.8740],\n",
       "        [0.8880],\n",
       "        [0.9020],\n",
       "        [0.9160],\n",
       "        [0.9300],\n",
       "        [0.9440],\n",
       "        [0.9580],\n",
       "        [0.9720],\n",
       "        [0.9860]])"
      ]
     },
     "execution_count": 37,
     "metadata": {},
     "output_type": "execute_result"
    }
   ],
   "source": [
    "y_test # Datos de entrenamiento (valores esperados)"
   ]
  },
  {
   "cell_type": "markdown",
   "metadata": {},
   "source": [
    "Comparación de gráficas:"
   ]
  },
  {
   "cell_type": "code",
   "execution_count": 38,
   "metadata": {},
   "outputs": [
    {
     "data": {
      "image/png": "[encoded data removed]",
      "text/plain": [
       "<Figure size 1000x700 with 1 Axes>"
      ]
     },
     "metadata": {},
     "output_type": "display_data"
    }
   ],
   "source": [
    "plot_predictions(predictions=y_preds) # Antes de entrenamiento"
   ]
  },
  {
   "cell_type": "code",
   "execution_count": 39,
   "metadata": {},
   "outputs": [
    {
     "data": {
      "image/png": "[encoded data removed]",
      "text/plain": [
       "<Figure size 1000x700 with 1 Axes>"
      ]
     },
     "metadata": {},
     "output_type": "display_data"
    }
   ],
   "source": [
    "plot_predictions(predictions=y_preds_new) # Después de 200 epochs de entrenamiento"
   ]
  },
  {
   "cell_type": "markdown",
   "metadata": {},
   "source": [
    "Evidentemente, nuestras predicciones mejoraron, sin embargo, hacen falta más ciclos de entrenamiento para tener una presición aceptable"
   ]
  },
  {
   "cell_type": "markdown",
   "metadata": {},
   "source": [
    "### Plot Loss Curves"
   ]
  },
  {
   "cell_type": "code",
   "execution_count": 40,
   "metadata": {},
   "outputs": [
    {
     "data": {
      "text/plain": [
       "([0, 10, 20, 30, 40],\n",
       " [tensor(0.3129, grad_fn=<MeanBackward0>),\n",
       "  tensor(0.1977, grad_fn=<MeanBackward0>),\n",
       "  tensor(0.0891, grad_fn=<MeanBackward0>),\n",
       "  tensor(0.0531, grad_fn=<MeanBackward0>),\n",
       "  tensor(0.0454, grad_fn=<MeanBackward0>)],\n",
       " [tensor(0.4481),\n",
       "  tensor(0.3134),\n",
       "  tensor(0.1843),\n",
       "  tensor(0.1116),\n",
       "  tensor(0.0806)])"
      ]
     },
     "execution_count": 40,
     "metadata": {},
     "output_type": "execute_result"
    }
   ],
   "source": [
    "epoch_count[:5], loss_values[:5], test_loss_values[:5]"
   ]
  },
  {
   "cell_type": "code",
   "execution_count": 41,
   "metadata": {},
   "outputs": [
    {
     "data": {
      "text/plain": [
       "([150, 160, 170, 180, 190],\n",
       " [tensor(0.0073, grad_fn=<MeanBackward0>),\n",
       "  tensor(0.0039, grad_fn=<MeanBackward0>),\n",
       "  tensor(0.0089, grad_fn=<MeanBackward0>),\n",
       "  tensor(0.0089, grad_fn=<MeanBackward0>),\n",
       "  tensor(0.0089, grad_fn=<MeanBackward0>)],\n",
       " [tensor(0.0207),\n",
       "  tensor(0.0256),\n",
       "  tensor(0.0280),\n",
       "  tensor(0.0280),\n",
       "  tensor(0.0280)])"
      ]
     },
     "execution_count": 41,
     "metadata": {},
     "output_type": "execute_result"
    }
   ],
   "source": [
    "epoch_count[-5:], loss_values[-5:], test_loss_values[-5:]"
   ]
  },
  {
   "cell_type": "markdown",
   "metadata": {},
   "source": [
    "Debido a que se sigue trackeando el gradiente en loss_values, debemos transformar el tensor a un arreglo de numpy para poder graficarlo:"
   ]
  },
  {
   "cell_type": "code",
   "execution_count": 42,
   "metadata": {},
   "outputs": [
    {
     "data": {
      "text/plain": [
       "array([0.31288138, 0.19767132, 0.08908726, 0.05314853, 0.04543797],\n",
       "      dtype=float32)"
      ]
     },
     "execution_count": 42,
     "metadata": {},
     "output_type": "execute_result"
    }
   ],
   "source": [
    "loss_values_np = np.array(torch.tensor(loss_values).numpy())\n",
    "loss_values_np[:5]"
   ]
  },
  {
   "cell_type": "code",
   "execution_count": 43,
   "metadata": {},
   "outputs": [
    {
     "data": {
      "image/png": "[encoded data removed]",
      "text/plain": [
       "<Figure size 640x480 with 1 Axes>"
      ]
     },
     "metadata": {},
     "output_type": "display_data"
    }
   ],
   "source": [
    "plt.plot(epoch_count, loss_values_np, label=\"Train Loss\")\n",
    "plt.plot(epoch_count, test_loss_values, label=\"Test Loss\")\n",
    "plt.title(\"Traning and Testing Loss Curves\")\n",
    "plt.ylabel(\"Loss\")\n",
    "plt.xlabel(\"Epochs\")\n",
    "plt.legend()\n",
    "plt.grid(True)"
   ]
  },
  {
   "cell_type": "markdown",
   "metadata": {},
   "source": [
    "## 5. Guardar y Cargar un Modelo"
   ]
  },
  {
   "cell_type": "markdown",
   "metadata": {},
   "source": [
    "Existe 3 métodos principales para guardar y cargar modelos en PyTorch:\n",
    "\n",
    "1. `torch.save()`:\n",
    "\n",
    "Permite guardar un objeto de PyTorch en el formato \"pickle\" de Python.\n",
    "\n",
    "Documentación de Python: https://docs.python.org/3/library/pickle.html\n",
    "\n",
    "2. `torch.load()`:\n",
    "\n",
    "Permite cargar un objeto guardado de PyTorch.\n",
    "\n",
    "3. `torch.nn.Module.load_state_dict()`:\n",
    "\n",
    "Permite cargar el `state_dict` de un modelo.\n",
    "\n",
    "`state_dict()` es un diccionario de Python que mapea cada layer de un modelo a su tensor de parámetros.\n",
    "\n",
    "Cabe mencionar que el optimizador también tiene un `state_dict`, por ejemplo:\n",
    "\n",
    "`optimizer = torch.optim.SGD(params=model.parameters(), lr=0.001)`\n",
    "\n",
    "`optimizer.state_dict()`"
   ]
  },
  {
   "cell_type": "code",
   "execution_count": 44,
   "metadata": {},
   "outputs": [
    {
     "data": {
      "text/plain": [
       "OrderedDict([('weights', tensor([0.6990])), ('bias', tensor([0.3093]))])"
      ]
     },
     "execution_count": 44,
     "metadata": {},
     "output_type": "execute_result"
    }
   ],
   "source": [
    "model0.state_dict()"
   ]
  },
  {
   "cell_type": "code",
   "execution_count": 45,
   "metadata": {},
   "outputs": [
    {
     "data": {
      "text/plain": [
       "{'state': {},\n",
       " 'param_groups': [{'lr': 0.01,\n",
       "   'momentum': 0,\n",
       "   'dampening': 0,\n",
       "   'weight_decay': 0,\n",
       "   'nesterov': False,\n",
       "   'maximize': False,\n",
       "   'foreach': None,\n",
       "   'differentiable': False,\n",
       "   'fused': None,\n",
       "   'params': [0, 1]}]}"
      ]
     },
     "execution_count": 45,
     "metadata": {},
     "output_type": "execute_result"
    }
   ],
   "source": [
    "optimizer.state_dict()"
   ]
  },
  {
   "cell_type": "markdown",
   "metadata": {},
   "source": [
    "Documentación de PyTorch:\n",
    "\n",
    "https://pytorch.org/tutorials/beginner/saving_loading_models.html"
   ]
  },
  {
   "cell_type": "markdown",
   "metadata": {},
   "source": [
    "### Método Recomendado:"
   ]
  },
  {
   "cell_type": "markdown",
   "metadata": {},
   "source": [
    "La forma recomendada de guardar y cargar modelos es a través de su `state_dict`, usando:\n",
    "\n",
    "* Guardar:\n",
    "\n",
    "`torch.save(model.state_dict(), PATH)`\n",
    "\n",
    "* Cargar: \n",
    "\n",
    "`model = TheModelClass(*args, **kwargs)`\n",
    "\n",
    "`model.load_state_dict(torch.load(PATH))`\n",
    "\n",
    "`model.eval()`"
   ]
  },
  {
   "cell_type": "markdown",
   "metadata": {},
   "source": [
    "### Guardar y Cargar el Modelo Entero:"
   ]
  },
  {
   "cell_type": "markdown",
   "metadata": {},
   "source": [
    "Existe también otro método, por el cual se guarda el modelo entero, de la siguiente forma:\n",
    "\n",
    "* Guardar:\n",
    "\n",
    "`torch.save(model, PATH)`\n",
    "\n",
    "* Cargar:\n",
    "\n",
    "Para hacer uso de este método, debe de estar definida la clase del modelo.\n",
    "\n",
    "`model = torch.load(PATH)`\n",
    "\n",
    "`model.eval()`"
   ]
  },
  {
   "cell_type": "markdown",
   "metadata": {},
   "source": [
    "### Ejemplo"
   ]
  },
  {
   "cell_type": "markdown",
   "metadata": {},
   "source": [
    "#### Guardar Modelo"
   ]
  },
  {
   "cell_type": "code",
   "execution_count": 46,
   "metadata": {},
   "outputs": [],
   "source": [
    "import os"
   ]
  },
  {
   "cell_type": "code",
   "execution_count": 47,
   "metadata": {},
   "outputs": [
    {
     "ename": "SyntaxError",
     "evalue": "invalid syntax. Perhaps you forgot a comma? (3644826058.py, line 1)",
     "output_type": "error",
     "traceback": [
      "\u001b[0;36m  Cell \u001b[0;32mIn[47], line 1\u001b[0;36m\u001b[0m\n\u001b[0;31m    root_dir = os.path.abspath(os.path.join(os.getcwd(), loaded_model0 = torch.load()\u001b[0m\n\u001b[0m                                                                         ^\u001b[0m\n\u001b[0;31mSyntaxError\u001b[0m\u001b[0;31m:\u001b[0m invalid syntax. Perhaps you forgot a comma?\n"
     ]
    }
   ],
   "source": [
    "root_dir = os.path.abspath(os.path.join(os.getcwd(), loaded_model0 = torch.load()\n",
    "                                        \"../../modelos\"))\n",
    "root_dir"
   ]
  },
  {
   "cell_type": "code",
   "execution_count": 48,
   "metadata": {},
   "outputs": [
    {
     "data": {
      "text/plain": [
       "'/home/miguel/Documents/Udemy/pytorch-fundamentals/modelos/02_pytorch_workflow_model0.pth'"
      ]
     },
     "execution_count": 48,
     "metadata": {},
     "output_type": "execute_result"
    }
   ],
   "source": [
    "model_path = os.path.join(root_dir, \n",
    "                          \"02_pytorch_workflow_model0.pth\")\n",
    "model_path"
   ]
  },
  {
   "cell_type": "code",
   "execution_count": 49,
   "metadata": {},
   "outputs": [],
   "source": [
    "torch.save(model0.state_dict(), model_path)"
   ]
  },
  {
   "cell_type": "markdown",
   "metadata": {},
   "source": [
    "#### Cargar Modelo"
   ]
  },
  {
   "cell_type": "markdown",
   "metadata": {},
   "source": [
    "Debido a que guardamos el `state_dict` del modelo, en lugar del modelo entero debemos crear una nueva instancia de la clase del modelo y luego cargar el `state_dict` del modelo guardado.\n",
    "\n",
    "Recordando la forma del `state_dict` del modelo guardado:"
   ]
  },
  {
   "cell_type": "code",
   "execution_count": 50,
   "metadata": {},
   "outputs": [
    {
     "data": {
      "text/plain": [
       "OrderedDict([('weights', tensor([0.6990])), ('bias', tensor([0.3093]))])"
      ]
     },
     "execution_count": 50,
     "metadata": {},
     "output_type": "execute_result"
    }
   ],
   "source": [
    "model0.state_dict()"
   ]
  },
  {
   "cell_type": "markdown",
   "metadata": {},
   "source": [
    "Creamos una nueva instancia del la clase LinearRegressionModel:"
   ]
  },
  {
   "cell_type": "code",
   "execution_count": 52,
   "metadata": {},
   "outputs": [
    {
     "data": {
      "text/plain": [
       "OrderedDict([('weights', tensor([0.2345])), ('bias', tensor([0.2303]))])"
      ]
     },
     "execution_count": 52,
     "metadata": {},
     "output_type": "execute_result"
    }
   ],
   "source": [
    "loaded_model0 = LinearRegressionModel()\n",
    "loaded_model0.state_dict()"
   ]
  },
  {
   "cell_type": "markdown",
   "metadata": {},
   "source": [
    "Cargamos el `state_dict` del modelo guardado (model0)"
   ]
  },
  {
   "cell_type": "code",
   "execution_count": 53,
   "metadata": {},
   "outputs": [
    {
     "name": "stderr",
     "output_type": "stream",
     "text": [
      "/tmp/ipykernel_11502/184014497.py:1: FutureWarning: You are using `torch.load` with `weights_only=False` (the current default value), which uses the default pickle module implicitly. It is possible to construct malicious pickle data which will execute arbitrary code during unpickling (See https://github.com/pytorch/pytorch/blob/main/SECURITY.md#untrusted-models for more details). In a future release, the default value for `weights_only` will be flipped to `True`. This limits the functions that could be executed during unpickling. Arbitrary objects will no longer be allowed to be loaded via this mode unless they are explicitly allowlisted by the user via `torch.serialization.add_safe_globals`. We recommend you start setting `weights_only=True` for any use case where you don't have full control of the loaded file. Please open an issue on GitHub for any issues related to this experimental feature.\n",
      "  loaded_model0.load_state_dict(torch.load(model_path))\n"
     ]
    },
    {
     "data": {
      "text/plain": [
       "<All keys matched successfully>"
      ]
     },
     "execution_count": 53,
     "metadata": {},
     "output_type": "execute_result"
    }
   ],
   "source": [
    "loaded_model0.load_state_dict(torch.load(model_path))"
   ]
  },
  {
   "cell_type": "code",
   "execution_count": 54,
   "metadata": {},
   "outputs": [
    {
     "data": {
      "text/plain": [
       "OrderedDict([('weights', tensor([0.6990])), ('bias', tensor([0.3093]))])"
      ]
     },
     "execution_count": 54,
     "metadata": {},
     "output_type": "execute_result"
    }
   ],
   "source": [
    "loaded_model0.state_dict()"
   ]
  },
  {
   "cell_type": "markdown",
   "metadata": {},
   "source": [
    "A continuación realizaremos predicciones utilizando el modelo cargado para comprobar que no existan problemas"
   ]
  },
  {
   "cell_type": "code",
   "execution_count": 55,
   "metadata": {},
   "outputs": [
    {
     "data": {
      "text/plain": [
       "tensor([[0.8685],\n",
       "        [0.8825],\n",
       "        [0.8965],\n",
       "        [0.9105],\n",
       "        [0.9245],\n",
       "        [0.9384],\n",
       "        [0.9524],\n",
       "        [0.9664],\n",
       "        [0.9804],\n",
       "        [0.9944]])"
      ]
     },
     "execution_count": 55,
     "metadata": {},
     "output_type": "execute_result"
    }
   ],
   "source": [
    "loaded_model0.eval()\n",
    "with torch.inference_mode():\n",
    "    loaded_model0_preds = loaded_model0(X_test)\n",
    "loaded_model0_preds"
   ]
  },
  {
   "cell_type": "markdown",
   "metadata": {},
   "source": [
    "Comparación de predicciones entre el modelo original (model0) y el modelo cargado (loaded_model0):"
   ]
  },
  {
   "cell_type": "code",
   "execution_count": 58,
   "metadata": {},
   "outputs": [
    {
     "data": {
      "text/plain": [
       "tensor([[True],\n",
       "        [True],\n",
       "        [True],\n",
       "        [True],\n",
       "        [True],\n",
       "        [True],\n",
       "        [True],\n",
       "        [True],\n",
       "        [True],\n",
       "        [True]])"
      ]
     },
     "execution_count": 58,
     "metadata": {},
     "output_type": "execute_result"
    }
   ],
   "source": [
    "loaded_model0_preds == y_preds_new"
   ]
  }
 ],
 "metadata": {
  "kernelspec": {
   "display_name": ".env",
   "language": "python",
   "name": "python3"
  },
  "language_info": {
   "codemirror_mode": {
    "name": "ipython",
    "version": 3
   },
   "file_extension": ".py",
   "mimetype": "text/x-python",
   "name": "python",
   "nbconvert_exporter": "python",
   "pygments_lexer": "ipython3",
   "version": "3.11.2"
  }
 },
 "nbformat": 4,
 "nbformat_minor": 2
}
