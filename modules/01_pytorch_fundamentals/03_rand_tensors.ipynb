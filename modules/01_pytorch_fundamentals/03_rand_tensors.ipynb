{
 "cells": [
  {
   "cell_type": "markdown",
   "metadata": {},
   "source": [
    "# Random Tensors"
   ]
  },
  {
   "cell_type": "markdown",
   "metadata": {},
   "source": [
    "## Creating Random Tensors"
   ]
  },
  {
   "cell_type": "markdown",
   "metadata": {},
   "source": [
    "La forma en la que distintas redes neuronales aprenden es haciendo uso inicialmente de tensores aleatorios y después se ajustan para representar mejor nuestros datos"
   ]
  },
  {
   "cell_type": "markdown",
   "metadata": {},
   "source": [
    "`start with random numbers -> look at data -> update random numbers -> look at data -> update random numbers`"
   ]
  },
  {
   "cell_type": "markdown",
   "metadata": {},
   "source": [
    "Revisar la documentación: https://pytorch.org/docs/main/generated/torch.rand.html"
   ]
  },
  {
   "cell_type": "code",
   "execution_count": 1,
   "metadata": {},
   "outputs": [],
   "source": [
    "import torch"
   ]
  },
  {
   "cell_type": "markdown",
   "metadata": {},
   "source": [
    "Para crear un tensor aleatorio con shape (3,4):"
   ]
  },
  {
   "cell_type": "code",
   "execution_count": 6,
   "metadata": {},
   "outputs": [
    {
     "data": {
      "text/plain": [
       "tensor([[0.0364, 0.5946, 0.2637, 0.2536],\n",
       "        [0.7535, 0.1239, 0.6240, 0.9600],\n",
       "        [0.7258, 0.9420, 0.0466, 0.3263]])"
      ]
     },
     "execution_count": 6,
     "metadata": {},
     "output_type": "execute_result"
    }
   ],
   "source": [
    "random_tensor = torch.rand(3, 4)\n",
    "random_tensor"
   ]
  },
  {
   "cell_type": "code",
   "execution_count": 7,
   "metadata": {},
   "outputs": [
    {
     "data": {
      "text/plain": [
       "torch.Size([3, 4])"
      ]
     },
     "execution_count": 7,
     "metadata": {},
     "output_type": "execute_result"
    }
   ],
   "source": [
    "random_tensor.shape"
   ]
  },
  {
   "cell_type": "code",
   "execution_count": 8,
   "metadata": {},
   "outputs": [
    {
     "data": {
      "text/plain": [
       "2"
      ]
     },
     "execution_count": 8,
     "metadata": {},
     "output_type": "execute_result"
    }
   ],
   "source": [
    "random_tensor.ndim"
   ]
  },
  {
   "cell_type": "code",
   "execution_count": 10,
   "metadata": {},
   "outputs": [
    {
     "data": {
      "text/plain": [
       "tensor([[[0.5265, 0.0424, 0.3317, 0.6158],\n",
       "         [0.3329, 0.6538, 0.0888, 0.0811],\n",
       "         [0.3583, 0.4195, 0.2368, 0.9885]],\n",
       "\n",
       "        [[0.1634, 0.4401, 0.4638, 0.5149],\n",
       "         [0.8650, 0.3834, 0.7138, 0.7989],\n",
       "         [0.3430, 0.7125, 0.8019, 0.2639]]])"
      ]
     },
     "execution_count": 10,
     "metadata": {},
     "output_type": "execute_result"
    }
   ],
   "source": [
    "random_tensor = torch.rand(2, 3, 4)\n",
    "random_tensor"
   ]
  },
  {
   "cell_type": "code",
   "execution_count": 11,
   "metadata": {},
   "outputs": [
    {
     "data": {
      "text/plain": [
       "torch.Size([2, 3, 4])"
      ]
     },
     "execution_count": 11,
     "metadata": {},
     "output_type": "execute_result"
    }
   ],
   "source": [
    "random_tensor.shape"
   ]
  },
  {
   "cell_type": "code",
   "execution_count": 12,
   "metadata": {},
   "outputs": [
    {
     "data": {
      "text/plain": [
       "3"
      ]
     },
     "execution_count": 12,
     "metadata": {},
     "output_type": "execute_result"
    }
   ],
   "source": [
    "random_tensor.ndim"
   ]
  },
  {
   "cell_type": "markdown",
   "metadata": {},
   "source": [
    "Crear un tensor aleatorio con shape similar a un tensor de imagen:"
   ]
  },
  {
   "cell_type": "code",
   "execution_count": 15,
   "metadata": {},
   "outputs": [
    {
     "data": {
      "text/plain": [
       "tensor([[[0.5146, 0.5774, 0.0059,  ..., 0.4453, 0.6688, 0.5231],\n",
       "         [0.2084, 0.8142, 0.7552,  ..., 0.3150, 0.0884, 0.4466],\n",
       "         [0.9830, 0.4559, 0.7450,  ..., 0.1888, 0.2285, 0.1813],\n",
       "         ...,\n",
       "         [0.0032, 0.0564, 0.5463,  ..., 0.7069, 0.2963, 0.7814],\n",
       "         [0.4524, 0.1253, 0.2597,  ..., 0.2904, 0.0360, 0.5190],\n",
       "         [0.0573, 0.2285, 0.9520,  ..., 0.4947, 0.0350, 0.7248]],\n",
       "\n",
       "        [[0.0916, 0.7761, 0.1391,  ..., 0.3670, 0.8832, 0.0300],\n",
       "         [0.7675, 0.6408, 0.4578,  ..., 0.4676, 0.6463, 0.9195],\n",
       "         [0.6617, 0.1854, 0.0878,  ..., 0.9723, 0.1388, 0.8550],\n",
       "         ...,\n",
       "         [0.6705, 0.0768, 0.2157,  ..., 0.7468, 0.9121, 0.2903],\n",
       "         [0.4969, 0.6513, 0.1538,  ..., 0.3782, 0.4859, 0.8664],\n",
       "         [0.3758, 0.3748, 0.2709,  ..., 0.6041, 0.9686, 0.4847]],\n",
       "\n",
       "        [[0.7233, 0.2766, 0.3589,  ..., 0.1472, 0.7523, 0.7635],\n",
       "         [0.7742, 0.3061, 0.6259,  ..., 0.8184, 0.9584, 0.7143],\n",
       "         [0.2324, 0.2754, 0.0585,  ..., 0.7955, 0.1006, 0.9404],\n",
       "         ...,\n",
       "         [0.3274, 0.0899, 0.3851,  ..., 0.0127, 0.0020, 0.0101],\n",
       "         [0.0017, 0.0945, 0.6600,  ..., 0.0188, 0.2137, 0.5386],\n",
       "         [0.2681, 0.1326, 0.7840,  ..., 0.8395, 0.8404, 0.0885]]])"
      ]
     },
     "execution_count": 15,
     "metadata": {},
     "output_type": "execute_result"
    }
   ],
   "source": [
    "image_tensor = torch.rand(size=(3, 224, 224))\n",
    "image_tensor"
   ]
  },
  {
   "cell_type": "markdown",
   "metadata": {},
   "source": [
    "Donde dentro de size se declara height, width y colour channels (R, G, B) para representar la imagen"
   ]
  },
  {
   "cell_type": "code",
   "execution_count": 16,
   "metadata": {},
   "outputs": [
    {
     "data": {
      "text/plain": [
       "(torch.Size([3, 224, 224]), 3)"
      ]
     },
     "execution_count": 16,
     "metadata": {},
     "output_type": "execute_result"
    }
   ],
   "source": [
    "image_tensor.shape, image_tensor.ndim"
   ]
  },
  {
   "cell_type": "markdown",
   "metadata": {},
   "source": [
    "Donde se tiene 3 canales de color, 224 en altura y 224 en ancho de la imagen"
   ]
  },
  {
   "cell_type": "markdown",
   "metadata": {},
   "source": [
    "Cabe mencionar que al declarar un tensor aleatorio con el uso de `torch.rand(size=(1, 3, 3))` es igual que sin usar el parámetro `size` como `torch.rand(1, 3, 3)`"
   ]
  },
  {
   "cell_type": "markdown",
   "metadata": {},
   "source": [
    "## Creating Null Tensors"
   ]
  },
  {
   "cell_type": "markdown",
   "metadata": {},
   "source": [
    "Para crear tensores nulos se puede utilizar `torch.zeros()` como se ve a continuación"
   ]
  },
  {
   "cell_type": "code",
   "execution_count": 17,
   "metadata": {},
   "outputs": [
    {
     "data": {
      "text/plain": [
       "tensor([[0., 0., 0., 0.],\n",
       "        [0., 0., 0., 0.],\n",
       "        [0., 0., 0., 0.]])"
      ]
     },
     "execution_count": 17,
     "metadata": {},
     "output_type": "execute_result"
    }
   ],
   "source": [
    "ceros = torch.zeros(3,4)\n",
    "ceros"
   ]
  },
  {
   "cell_type": "code",
   "execution_count": 20,
   "metadata": {},
   "outputs": [
    {
     "data": {
      "text/plain": [
       "tensor([[[0., 0., 0., 0.],\n",
       "         [0., 0., 0., 0.],\n",
       "         [0., 0., 0., 0.]],\n",
       "\n",
       "        [[0., 0., 0., 0.],\n",
       "         [0., 0., 0., 0.],\n",
       "         [0., 0., 0., 0.]]])"
      ]
     },
     "execution_count": 20,
     "metadata": {},
     "output_type": "execute_result"
    }
   ],
   "source": [
    "ceros * random_tensor"
   ]
  },
  {
   "cell_type": "code",
   "execution_count": 21,
   "metadata": {},
   "outputs": [
    {
     "data": {
      "text/plain": [
       "tensor([[0., 0., 0., 0.],\n",
       "        [0., 0., 0., 0.],\n",
       "        [0., 0., 0., 0.]])"
      ]
     },
     "execution_count": 21,
     "metadata": {},
     "output_type": "execute_result"
    }
   ],
   "source": [
    "ceros * random_tensor[0]"
   ]
  },
  {
   "cell_type": "markdown",
   "metadata": {},
   "source": [
    "Los tensores nulos son útiles para transformaciones de tensores"
   ]
  },
  {
   "cell_type": "markdown",
   "metadata": {},
   "source": [
    "Para crear tensores de puros 1 se utiliza `torch.ones()`"
   ]
  },
  {
   "cell_type": "code",
   "execution_count": 23,
   "metadata": {},
   "outputs": [
    {
     "data": {
      "text/plain": [
       "tensor([[1., 1., 1., 1.],\n",
       "        [1., 1., 1., 1.],\n",
       "        [1., 1., 1., 1.]])"
      ]
     },
     "execution_count": 23,
     "metadata": {},
     "output_type": "execute_result"
    }
   ],
   "source": [
    "unos = torch.ones(3, 4)\n",
    "unos"
   ]
  },
  {
   "cell_type": "code",
   "execution_count": 24,
   "metadata": {},
   "outputs": [
    {
     "data": {
      "text/plain": [
       "torch.float32"
      ]
     },
     "execution_count": 24,
     "metadata": {},
     "output_type": "execute_result"
    }
   ],
   "source": [
    "unos.dtype"
   ]
  },
  {
   "cell_type": "markdown",
   "metadata": {},
   "source": [
    "El atributo `.dtype` muestra el tipo de datos por defecto de nuestro objeto"
   ]
  },
  {
   "cell_type": "markdown",
   "metadata": {},
   "source": [
    "Por defecto, cada que se crea un tensor usando pytorch, el tipo de datos de nuestro tensor es `torch.float32`"
   ]
  },
  {
   "cell_type": "markdown",
   "metadata": {},
   "source": [
    "Es más común el uso de tensores nulos que de 1s pero es importante recordar ambos"
   ]
  }
 ],
 "metadata": {
  "kernelspec": {
   "display_name": ".env",
   "language": "python",
   "name": "python3"
  },
  "language_info": {
   "codemirror_mode": {
    "name": "ipython",
    "version": 3
   },
   "file_extension": ".py",
   "mimetype": "text/x-python",
   "name": "python",
   "nbconvert_exporter": "python",
   "pygments_lexer": "ipython3",
   "version": "3.11.2"
  }
 },
 "nbformat": 4,
 "nbformat_minor": 2
}
